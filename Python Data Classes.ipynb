{
 "cells": [
  {
   "cell_type": "markdown",
   "id": "0b71f983",
   "metadata": {},
   "source": [
    "# Python Data Classes\n"
   ]
  },
  {
   "cell_type": "code",
   "execution_count": 1,
   "id": "58faf472",
   "metadata": {},
   "outputs": [],
   "source": [
    "from dataclasses import dataclass"
   ]
  },
  {
   "cell_type": "code",
   "execution_count": 2,
   "id": "69040ffb",
   "metadata": {},
   "outputs": [],
   "source": [
    "@dataclass\n",
    "class person:\n",
    "    name : str\n",
    "    age : int\n",
    "    height : int"
   ]
  },
  {
   "cell_type": "code",
   "execution_count": 3,
   "id": "139c979d",
   "metadata": {},
   "outputs": [],
   "source": [
    "per = person('Sathi',30,169)"
   ]
  },
  {
   "cell_type": "code",
   "execution_count": 4,
   "id": "5aa94b02",
   "metadata": {},
   "outputs": [
    {
     "data": {
      "text/plain": [
       "'Sathi'"
      ]
     },
     "execution_count": 4,
     "metadata": {},
     "output_type": "execute_result"
    }
   ],
   "source": [
    "per.name"
   ]
  },
  {
   "cell_type": "code",
   "execution_count": 5,
   "id": "c1a09be9",
   "metadata": {},
   "outputs": [],
   "source": [
    "person1 = person('Nita',25,150)\n",
    "person2 = person('Gita',15,150)"
   ]
  },
  {
   "cell_type": "code",
   "execution_count": 6,
   "id": "05a19946",
   "metadata": {},
   "outputs": [
    {
     "data": {
      "text/plain": [
       "('Nita', 'Gita')"
      ]
     },
     "execution_count": 6,
     "metadata": {},
     "output_type": "execute_result"
    }
   ],
   "source": [
    "person1.name, person2.name"
   ]
  },
  {
   "cell_type": "code",
   "execution_count": 7,
   "id": "7dbef46f",
   "metadata": {},
   "outputs": [],
   "source": [
    "@dataclass(frozen=True) # Immutability can be done through this\n",
    "class point:\n",
    "    x : int\n",
    "    y : int"
   ]
  },
  {
   "cell_type": "code",
   "execution_count": 8,
   "id": "31bcb066",
   "metadata": {},
   "outputs": [],
   "source": [
    "pt = point(3,5)"
   ]
  },
  {
   "cell_type": "code",
   "execution_count": 9,
   "id": "68d45076",
   "metadata": {},
   "outputs": [
    {
     "data": {
      "text/plain": [
       "point(x=3, y=5)"
      ]
     },
     "execution_count": 9,
     "metadata": {},
     "output_type": "execute_result"
    }
   ],
   "source": [
    "pt"
   ]
  },
  {
   "cell_type": "code",
   "execution_count": 10,
   "id": "d1f39ea9",
   "metadata": {},
   "outputs": [
    {
     "ename": "FrozenInstanceError",
     "evalue": "cannot assign to field 'x'",
     "output_type": "error",
     "traceback": [
      "\u001b[1;31m---------------------------------------------------------------------------\u001b[0m",
      "\u001b[1;31mFrozenInstanceError\u001b[0m                       Traceback (most recent call last)",
      "\u001b[1;32m~\\AppData\\Local\\Temp\\ipykernel_11352\\4127326073.py\u001b[0m in \u001b[0;36m<module>\u001b[1;34m\u001b[0m\n\u001b[1;32m----> 1\u001b[1;33m \u001b[0mpt\u001b[0m\u001b[1;33m.\u001b[0m\u001b[0mx\u001b[0m \u001b[1;33m=\u001b[0m \u001b[1;36m4\u001b[0m \u001b[1;31m# error\u001b[0m\u001b[1;33m\u001b[0m\u001b[1;33m\u001b[0m\u001b[0m\n\u001b[0m",
      "\u001b[1;32m<string>\u001b[0m in \u001b[0;36m__setattr__\u001b[1;34m(self, name, value)\u001b[0m\n",
      "\u001b[1;31mFrozenInstanceError\u001b[0m: cannot assign to field 'x'"
     ]
    }
   ],
   "source": [
    "pt.x = 4 # error"
   ]
  },
  {
   "cell_type": "code",
   "execution_count": 11,
   "id": "af5443a7",
   "metadata": {},
   "outputs": [],
   "source": [
    "@dataclass\n",
    "class person:\n",
    "    name : str\n",
    "    age : int\n",
    "    height : int\n",
    "        \n",
    "@dataclass\n",
    "class emp(person):\n",
    "    empid : str\n",
    "    dept : str"
   ]
  },
  {
   "cell_type": "code",
   "execution_count": 12,
   "id": "b671b87f",
   "metadata": {},
   "outputs": [],
   "source": [
    "person=person('sathi',22,169)\n",
    "emp=emp('sathi',22,169,'SAT15','IT')"
   ]
  },
  {
   "cell_type": "code",
   "execution_count": 13,
   "id": "cc1a9fc3",
   "metadata": {},
   "outputs": [
    {
     "data": {
      "text/plain": [
       "'sathi'"
      ]
     },
     "execution_count": 13,
     "metadata": {},
     "output_type": "execute_result"
    }
   ],
   "source": [
    "emp.name"
   ]
  },
  {
   "cell_type": "code",
   "execution_count": 14,
   "id": "369acc6d",
   "metadata": {},
   "outputs": [
    {
     "data": {
      "text/plain": [
       "'sathi'"
      ]
     },
     "execution_count": 14,
     "metadata": {},
     "output_type": "execute_result"
    }
   ],
   "source": [
    "person.name"
   ]
  },
  {
   "cell_type": "code",
   "execution_count": 15,
   "id": "197b3ac1",
   "metadata": {},
   "outputs": [],
   "source": [
    "## Nested Dataclass\n",
    "@dataclass\n",
    "class address: \n",
    "    address: int\n",
    "    zip : int\n",
    "        \n",
    "@dataclass\n",
    "class person:\n",
    "    name : str\n",
    "    age : int\n",
    "    address : address\n",
    "        "
   ]
  },
  {
   "cell_type": "code",
   "execution_count": 18,
   "id": "c6b73335",
   "metadata": {},
   "outputs": [],
   "source": [
    "add = address('Kolkata',712304)"
   ]
  },
  {
   "cell_type": "code",
   "execution_count": 19,
   "id": "15299e96",
   "metadata": {},
   "outputs": [],
   "source": [
    "person = person('Sathi',22, add)"
   ]
  },
  {
   "cell_type": "code",
   "execution_count": 20,
   "id": "ab952149",
   "metadata": {},
   "outputs": [
    {
     "data": {
      "text/plain": [
       "person(name='Sathi', age=22, address=address(address='Kolkata', zip=712304))"
      ]
     },
     "execution_count": 20,
     "metadata": {},
     "output_type": "execute_result"
    }
   ],
   "source": [
    "person"
   ]
  },
  {
   "cell_type": "code",
   "execution_count": null,
   "id": "b699d501",
   "metadata": {},
   "outputs": [],
   "source": []
  }
 ],
 "metadata": {
  "kernelspec": {
   "display_name": "Python 3 (ipykernel)",
   "language": "python",
   "name": "python3"
  },
  "language_info": {
   "codemirror_mode": {
    "name": "ipython",
    "version": 3
   },
   "file_extension": ".py",
   "mimetype": "text/x-python",
   "name": "python",
   "nbconvert_exporter": "python",
   "pygments_lexer": "ipython3",
   "version": "3.7.7"
  }
 },
 "nbformat": 4,
 "nbformat_minor": 5
}
