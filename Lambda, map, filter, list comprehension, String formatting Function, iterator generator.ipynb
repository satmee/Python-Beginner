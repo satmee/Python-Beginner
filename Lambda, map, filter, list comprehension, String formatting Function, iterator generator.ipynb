{
 "cells": [
  {
   "cell_type": "markdown",
   "id": "0c866445",
   "metadata": {},
   "source": [
    "# Lambda function (anoymous function)\n",
    "A function with no name and workes faster"
   ]
  },
  {
   "cell_type": "code",
   "execution_count": 1,
   "id": "3b86d343",
   "metadata": {},
   "outputs": [],
   "source": [
    "add = lambda a,b:a+b"
   ]
  },
  {
   "cell_type": "code",
   "execution_count": 2,
   "id": "b0af0f2d",
   "metadata": {},
   "outputs": [
    {
     "data": {
      "text/plain": [
       "13"
      ]
     },
     "execution_count": 2,
     "metadata": {},
     "output_type": "execute_result"
    }
   ],
   "source": [
    "add(4,9)"
   ]
  },
  {
   "cell_type": "markdown",
   "id": "459738bb",
   "metadata": {},
   "source": [
    "## Imp : It works ONLY for a single expression"
   ]
  },
  {
   "cell_type": "code",
   "execution_count": 3,
   "id": "f8d384ef",
   "metadata": {},
   "outputs": [],
   "source": [
    "even = lambda a:a%2==0"
   ]
  },
  {
   "cell_type": "code",
   "execution_count": 4,
   "id": "e42dd8ca",
   "metadata": {},
   "outputs": [
    {
     "data": {
      "text/plain": [
       "False"
      ]
     },
     "execution_count": 4,
     "metadata": {},
     "output_type": "execute_result"
    }
   ],
   "source": [
    "even(45)"
   ]
  },
  {
   "cell_type": "markdown",
   "id": "1e3a117a",
   "metadata": {},
   "source": [
    "### The power of lambda is better shown when you use them as an anonymous function inside another function.\n",
    "\n",
    "### Say you have a function definition that takes one argument, and that argument will be multiplied with an unknown number:"
   ]
  },
  {
   "cell_type": "code",
   "execution_count": 5,
   "id": "d476fcbb",
   "metadata": {},
   "outputs": [
    {
     "name": "stdout",
     "output_type": "stream",
     "text": [
      "22\n"
     ]
    }
   ],
   "source": [
    "def myfunc(n):\n",
    "  return lambda a : a * n\n",
    "\n",
    "mydoubler = myfunc(2)\n",
    "\n",
    "print(mydoubler(11))"
   ]
  },
  {
   "cell_type": "markdown",
   "id": "d04a9944",
   "metadata": {},
   "source": [
    "#### Works fot String too"
   ]
  },
  {
   "cell_type": "code",
   "execution_count": 20,
   "id": "2fe8f92f",
   "metadata": {},
   "outputs": [
    {
     "name": "stdout",
     "output_type": "stream",
     "text": [
      "SATHI\n"
     ]
    }
   ],
   "source": [
    "str1 = 'satHi'\n",
    "\n",
    "upper = lambda string: string.upper()\n",
    "print(upper(str1))\n"
   ]
  },
  {
   "cell_type": "code",
   "execution_count": 21,
   "id": "cd21c5cc",
   "metadata": {},
   "outputs": [],
   "source": [
    "gg = lambda x,y,z: x+y-z"
   ]
  },
  {
   "cell_type": "code",
   "execution_count": 22,
   "id": "588e0f2c",
   "metadata": {},
   "outputs": [
    {
     "name": "stdout",
     "output_type": "stream",
     "text": [
      "1\n"
     ]
    }
   ],
   "source": [
    "print(gg(1,2,2))"
   ]
  },
  {
   "cell_type": "markdown",
   "id": "2d128f9e",
   "metadata": {},
   "source": [
    "# Map function\n",
    "Map in Python is a function that works as an iterator to return a result after applying a function to every item of an iterable. It allows you to process and transform all the items in an iterable without using an explicit for loop"
   ]
  },
  {
   "cell_type": "code",
   "execution_count": 6,
   "id": "842c9a0c",
   "metadata": {},
   "outputs": [],
   "source": [
    "def evenorodd(m):\n",
    "    if m%2==0:\n",
    "        return 'The number {} is Even'.format(m)\n",
    "    else:\n",
    "        return 'The number {} is Odd'.format(m)"
   ]
  },
  {
   "cell_type": "code",
   "execution_count": 7,
   "id": "6c7b4b45",
   "metadata": {},
   "outputs": [
    {
     "data": {
      "text/plain": [
       "'The number 45 is Odd'"
      ]
     },
     "execution_count": 7,
     "metadata": {},
     "output_type": "execute_result"
    }
   ],
   "source": [
    "evenorodd(45)"
   ]
  },
  {
   "cell_type": "code",
   "execution_count": 8,
   "id": "b4769290",
   "metadata": {},
   "outputs": [],
   "source": [
    "lst = [1,2,3,7,56,7412,965,74,452]"
   ]
  },
  {
   "cell_type": "code",
   "execution_count": 9,
   "id": "4b32ed88",
   "metadata": {},
   "outputs": [
    {
     "data": {
      "text/plain": [
       "<map at 0x25acf6a7588>"
      ]
     },
     "execution_count": 9,
     "metadata": {},
     "output_type": "execute_result"
    }
   ],
   "source": [
    "map(evenorodd,lst) # the memory has not been instantiated by map"
   ]
  },
  {
   "cell_type": "code",
   "execution_count": 10,
   "id": "1fab1316",
   "metadata": {},
   "outputs": [
    {
     "data": {
      "text/plain": [
       "['The number 1 is Odd',\n",
       " 'The number 2 is Even',\n",
       " 'The number 3 is Odd',\n",
       " 'The number 7 is Odd',\n",
       " 'The number 56 is Even',\n",
       " 'The number 7412 is Even',\n",
       " 'The number 965 is Odd',\n",
       " 'The number 74 is Even',\n",
       " 'The number 452 is Even']"
      ]
     },
     "execution_count": 10,
     "metadata": {},
     "output_type": "execute_result"
    }
   ],
   "source": [
    "list(map(evenorodd,lst)) # To instantiated the memory by map we convert it to list"
   ]
  },
  {
   "cell_type": "markdown",
   "id": "4e98e6db",
   "metadata": {},
   "source": [
    "# Filter Function\n",
    "filter() is used to filter elements from an iterable based on a given condition or function and returns a new iterable with the filtered elements."
   ]
  },
  {
   "cell_type": "code",
   "execution_count": 11,
   "id": "496e0eec",
   "metadata": {},
   "outputs": [
    {
     "data": {
      "text/plain": [
       "[56, 7412, 452]"
      ]
     },
     "execution_count": 11,
     "metadata": {},
     "output_type": "execute_result"
    }
   ],
   "source": [
    "list(filter(lambda a: a%4==0,lst)) # filter the numbers from the iterables which are divisible by 4"
   ]
  },
  {
   "cell_type": "code",
   "execution_count": 12,
   "id": "e9e05c8d",
   "metadata": {},
   "outputs": [
    {
     "data": {
      "text/plain": [
       "[False, False, False, False, True, True, False, False, True]"
      ]
     },
     "execution_count": 12,
     "metadata": {},
     "output_type": "execute_result"
    }
   ],
   "source": [
    "list(map(lambda a: a%4==0,lst)) # This is the diff b/w map and filter, it return the boolean values but filter returns the value"
   ]
  },
  {
   "cell_type": "markdown",
   "id": "5073d022",
   "metadata": {},
   "source": [
    "# List Comprehension"
   ]
  },
  {
   "cell_type": "code",
   "execution_count": 13,
   "id": "3880d112",
   "metadata": {},
   "outputs": [],
   "source": [
    "lst1=[]\n",
    "def square(lst): ### This sucks a lot of memory\n",
    "    for i in lst:\n",
    "        lst1.append(i*i)\n",
    "    return lst1"
   ]
  },
  {
   "cell_type": "code",
   "execution_count": 14,
   "id": "87643f5c",
   "metadata": {},
   "outputs": [
    {
     "data": {
      "text/plain": [
       "[1, 4, 9, 16, 25]"
      ]
     },
     "execution_count": 14,
     "metadata": {},
     "output_type": "execute_result"
    }
   ],
   "source": [
    "square([1,2,3,4,5])"
   ]
  },
  {
   "cell_type": "code",
   "execution_count": 15,
   "id": "b1c07302",
   "metadata": {},
   "outputs": [],
   "source": [
    "lst2 = [1,2,3,4,5,6]"
   ]
  },
  {
   "cell_type": "code",
   "execution_count": 16,
   "id": "5f29f1b2",
   "metadata": {},
   "outputs": [
    {
     "data": {
      "text/plain": [
       "[1, 4, 9, 16, 25, 36]"
      ]
     },
     "execution_count": 16,
     "metadata": {},
     "output_type": "execute_result"
    }
   ],
   "source": [
    "[i*i for i in lst2 ] # List Comprehension"
   ]
  },
  {
   "cell_type": "markdown",
   "id": "72a84d49",
   "metadata": {},
   "source": [
    "#### The return value is a new list, leaving the old list unchanged."
   ]
  },
  {
   "cell_type": "code",
   "execution_count": 17,
   "id": "7c9289d9",
   "metadata": {},
   "outputs": [
    {
     "data": {
      "text/plain": [
       "[1, 2, 3, 4, 5, 6]"
      ]
     },
     "execution_count": 17,
     "metadata": {},
     "output_type": "execute_result"
    }
   ],
   "source": [
    "lst2 # The value gets copied"
   ]
  },
  {
   "cell_type": "code",
   "execution_count": 18,
   "id": "0f2f5d55",
   "metadata": {},
   "outputs": [],
   "source": [
    "lst3 = [7,8,9,10]"
   ]
  },
  {
   "cell_type": "code",
   "execution_count": 19,
   "id": "905002f7",
   "metadata": {},
   "outputs": [
    {
     "data": {
      "text/plain": [
       "[64, 100]"
      ]
     },
     "execution_count": 19,
     "metadata": {},
     "output_type": "execute_result"
    }
   ],
   "source": [
    "[i*i for i in lst3 if i%2==0] # prints square of the even numbers"
   ]
  },
  {
   "cell_type": "markdown",
   "id": "46b877d6",
   "metadata": {},
   "source": [
    "# String Formatting"
   ]
  },
  {
   "cell_type": "code",
   "execution_count": 20,
   "id": "04b2da70",
   "metadata": {},
   "outputs": [
    {
     "name": "stdout",
     "output_type": "stream",
     "text": [
      "I am learning python from Youtube\n"
     ]
    }
   ],
   "source": [
    "language = 'python' # f string, works with both f and F\n",
    "school = 'Youtube'\n",
    "print (f'I am learning {language} from {school}')"
   ]
  },
  {
   "cell_type": "code",
   "execution_count": 21,
   "id": "a15f4fc5",
   "metadata": {},
   "outputs": [],
   "source": [
    "def greet(name,age):\n",
    "    print('My name is {name} and age is {age}'. format(name=name, age = age))"
   ]
  },
  {
   "cell_type": "code",
   "execution_count": 22,
   "id": "1c5095ab",
   "metadata": {},
   "outputs": [
    {
     "name": "stdout",
     "output_type": "stream",
     "text": [
      "My name is Sathi and age is 22\n"
     ]
    }
   ],
   "source": [
    "greet('Sathi',22)"
   ]
  },
  {
   "cell_type": "markdown",
   "id": "9d343461",
   "metadata": {},
   "source": [
    "# Iterator vs Iterables"
   ]
  },
  {
   "cell_type": "markdown",
   "id": "3bb8ce17",
   "metadata": {},
   "source": [
    "1. Iterators = They are basically series of elements that can be iterated over and it has no iteration state like \"current element\" state. Instead it has one method that produces an Iterator.\n",
    "2. Iterables = Objects with iteration state, it can be used for checking if it has more elements using hasNext() and move to the enxt element using next()"
   ]
  },
  {
   "cell_type": "markdown",
   "id": "f63a2773",
   "metadata": {},
   "source": [
    "### Note: Every iterator is also an iterable, but not every iterable is an iterator in Python."
   ]
  },
  {
   "cell_type": "markdown",
   "id": "c8fd695b",
   "metadata": {},
   "source": [
    "For example, a list is iterable but a list is not an iterator. An iterator can be created from an iterable by using the function iter(). "
   ]
  },
  {
   "cell_type": "markdown",
   "id": "ed8d8603",
   "metadata": {},
   "source": [
    "Iterators power and control the iteration process, while iterables typically hold data that you want to iterate over one value at a time"
   ]
  },
  {
   "cell_type": "code",
   "execution_count": 23,
   "id": "f74007c8",
   "metadata": {},
   "outputs": [
    {
     "name": "stdout",
     "output_type": "stream",
     "text": [
      "1\n",
      "3\n",
      "4\n",
      "8\n",
      "5\n",
      "8\n"
     ]
    }
   ],
   "source": [
    "#iterable\n",
    "lst = [1,3,4,8,5,8]\n",
    "for i in lst:\n",
    "    print(i)"
   ]
  },
  {
   "cell_type": "code",
   "execution_count": 61,
   "id": "b61af863",
   "metadata": {},
   "outputs": [],
   "source": [
    "#iterable\n",
    "new = iter(lst)\n"
   ]
  },
  {
   "cell_type": "code",
   "execution_count": 62,
   "id": "f6710056",
   "metadata": {},
   "outputs": [
    {
     "data": {
      "text/plain": [
       "1"
      ]
     },
     "execution_count": 62,
     "metadata": {},
     "output_type": "execute_result"
    }
   ],
   "source": [
    "next(new)"
   ]
  },
  {
   "cell_type": "code",
   "execution_count": 63,
   "id": "cab62e05",
   "metadata": {},
   "outputs": [
    {
     "data": {
      "text/plain": [
       "3"
      ]
     },
     "execution_count": 63,
     "metadata": {},
     "output_type": "execute_result"
    }
   ],
   "source": [
    "next(new)"
   ]
  },
  {
   "cell_type": "code",
   "execution_count": 64,
   "id": "0b3f455e",
   "metadata": {},
   "outputs": [
    {
     "data": {
      "text/plain": [
       "4"
      ]
     },
     "execution_count": 64,
     "metadata": {},
     "output_type": "execute_result"
    }
   ],
   "source": [
    "next(new)"
   ]
  },
  {
   "cell_type": "code",
   "execution_count": 65,
   "id": "e70a8225",
   "metadata": {},
   "outputs": [
    {
     "data": {
      "text/plain": [
       "8"
      ]
     },
     "execution_count": 65,
     "metadata": {},
     "output_type": "execute_result"
    }
   ],
   "source": [
    "next(new)"
   ]
  },
  {
   "cell_type": "code",
   "execution_count": 66,
   "id": "7951480c",
   "metadata": {},
   "outputs": [
    {
     "data": {
      "text/plain": [
       "5"
      ]
     },
     "execution_count": 66,
     "metadata": {},
     "output_type": "execute_result"
    }
   ],
   "source": [
    "next(new)"
   ]
  },
  {
   "cell_type": "code",
   "execution_count": 67,
   "id": "988f5d0a",
   "metadata": {},
   "outputs": [
    {
     "data": {
      "text/plain": [
       "8"
      ]
     },
     "execution_count": 67,
     "metadata": {},
     "output_type": "execute_result"
    }
   ],
   "source": [
    "next(new)"
   ]
  },
  {
   "cell_type": "code",
   "execution_count": 68,
   "id": "90cdece0",
   "metadata": {},
   "outputs": [
    {
     "ename": "StopIteration",
     "evalue": "",
     "output_type": "error",
     "traceback": [
      "\u001b[1;31m---------------------------------------------------------------------------\u001b[0m",
      "\u001b[1;31mStopIteration\u001b[0m                             Traceback (most recent call last)",
      "\u001b[1;32m~\\AppData\\Local\\Temp\\ipykernel_11624\\3029344556.py\u001b[0m in \u001b[0;36m<module>\u001b[1;34m\u001b[0m\n\u001b[1;32m----> 1\u001b[1;33m \u001b[0mnext\u001b[0m\u001b[1;33m(\u001b[0m\u001b[0mnew\u001b[0m\u001b[1;33m)\u001b[0m\u001b[1;33m\u001b[0m\u001b[1;33m\u001b[0m\u001b[0m\n\u001b[0m",
      "\u001b[1;31mStopIteration\u001b[0m: "
     ]
    }
   ],
   "source": [
    "next(new) # After iterating all elements it gives StopIteration error"
   ]
  },
  {
   "cell_type": "code",
   "execution_count": 47,
   "id": "6d891538",
   "metadata": {},
   "outputs": [
    {
     "name": "stdout",
     "output_type": "stream",
     "text": [
      "3\n",
      "4\n",
      "8\n",
      "5\n",
      "8\n"
     ]
    }
   ],
   "source": [
    "for i in new:\n",
    "    print (i)"
   ]
  },
  {
   "cell_type": "markdown",
   "id": "6520d32a",
   "metadata": {},
   "source": [
    "# Generator"
   ]
  },
  {
   "cell_type": "markdown",
   "id": "5ef074da",
   "metadata": {},
   "source": [
    "1. For iterators we use iter() where as to create generator we use a function along with yield function.\n",
    "2. Generator saves and returnd the local variable value.\n",
    "3. Generator helps us write fast and compact code.\n",
    "4. Python is much more meory efficient\n",
    "5. For creating iterators, we use generators"
   ]
  },
  {
   "cell_type": "code",
   "execution_count": 57,
   "id": "b0809c25",
   "metadata": {},
   "outputs": [],
   "source": [
    "def square(n):\n",
    "    for i in range(n):\n",
    "        yield i**2"
   ]
  },
  {
   "cell_type": "code",
   "execution_count": 53,
   "id": "892b27e6",
   "metadata": {},
   "outputs": [
    {
     "data": {
      "text/plain": [
       "<generator object square at 0x000002711BE8E1C8>"
      ]
     },
     "execution_count": 53,
     "metadata": {},
     "output_type": "execute_result"
    }
   ],
   "source": [
    "square(lst)"
   ]
  },
  {
   "cell_type": "code",
   "execution_count": 59,
   "id": "6632881d",
   "metadata": {},
   "outputs": [
    {
     "name": "stdout",
     "output_type": "stream",
     "text": [
      "0\n",
      "1\n",
      "4\n"
     ]
    }
   ],
   "source": [
    "for i in square(3):\n",
    "    print (i)"
   ]
  },
  {
   "cell_type": "markdown",
   "id": "3c3b0c6a",
   "metadata": {},
   "source": [
    "These functions do not produce all the items at once, rather they produce them one at a time and only when required. Whenever the for statement is included to iterate over a set of items, a generator function is run.\n"
   ]
  },
  {
   "cell_type": "markdown",
   "id": "9ba8efce",
   "metadata": {},
   "source": [
    "### Function Copy -"
   ]
  },
  {
   "cell_type": "code",
   "execution_count": 88,
   "id": "339c3e43",
   "metadata": {},
   "outputs": [],
   "source": [
    "def welcome():\n",
    "    return 'Hello welcome'"
   ]
  },
  {
   "cell_type": "code",
   "execution_count": 89,
   "id": "3d4430a7",
   "metadata": {},
   "outputs": [
    {
     "data": {
      "text/plain": [
       "'Hello welcome'"
      ]
     },
     "execution_count": 89,
     "metadata": {},
     "output_type": "execute_result"
    }
   ],
   "source": [
    "welcome()"
   ]
  },
  {
   "cell_type": "code",
   "execution_count": 90,
   "id": "1ac46749",
   "metadata": {},
   "outputs": [],
   "source": [
    "di = welcome()"
   ]
  },
  {
   "cell_type": "code",
   "execution_count": 91,
   "id": "dfb88a02",
   "metadata": {},
   "outputs": [],
   "source": [
    "del welcome # deleeting the function"
   ]
  },
  {
   "cell_type": "code",
   "execution_count": 92,
   "id": "0801b4da",
   "metadata": {},
   "outputs": [
    {
     "data": {
      "text/plain": [
       "'Hello welcome'"
      ]
     },
     "execution_count": 92,
     "metadata": {},
     "output_type": "execute_result"
    }
   ],
   "source": [
    "di"
   ]
  },
  {
   "cell_type": "code",
   "execution_count": 93,
   "id": "e534e270",
   "metadata": {},
   "outputs": [
    {
     "ename": "NameError",
     "evalue": "name 'welcome' is not defined",
     "output_type": "error",
     "traceback": [
      "\u001b[1;31m---------------------------------------------------------------------------\u001b[0m",
      "\u001b[1;31mNameError\u001b[0m                                 Traceback (most recent call last)",
      "\u001b[1;32m~\\AppData\\Local\\Temp\\ipykernel_11624\\241228648.py\u001b[0m in \u001b[0;36m<module>\u001b[1;34m\u001b[0m\n\u001b[1;32m----> 1\u001b[1;33m \u001b[0mwelcome\u001b[0m\u001b[1;33m(\u001b[0m\u001b[1;33m)\u001b[0m\u001b[1;33m\u001b[0m\u001b[1;33m\u001b[0m\u001b[0m\n\u001b[0m",
      "\u001b[1;31mNameError\u001b[0m: name 'welcome' is not defined"
     ]
    }
   ],
   "source": [
    "welcome()"
   ]
  },
  {
   "cell_type": "markdown",
   "id": "c0b0269d",
   "metadata": {},
   "source": [
    "This is function copy, even though the function welcome() got deleted but as it was stored in an object called 'di', it will give the output of the function even though the actual function welcome() does not exist."
   ]
  },
  {
   "cell_type": "markdown",
   "id": "0f67975f",
   "metadata": {},
   "source": [
    "### Closures -\n",
    "Function inside functions"
   ]
  },
  {
   "cell_type": "code",
   "execution_count": 96,
   "id": "2699f23c",
   "metadata": {},
   "outputs": [],
   "source": [
    "def main_welcome():\n",
    "    msg = 'Hello'\n",
    "    def sub_welcome():\n",
    "        print('Hiii')\n",
    "        print(msg)\n",
    "        print('Bye')\n",
    "    return sub_welcome()"
   ]
  },
  {
   "cell_type": "code",
   "execution_count": 97,
   "id": "ad8d89c4",
   "metadata": {},
   "outputs": [
    {
     "name": "stdout",
     "output_type": "stream",
     "text": [
      "Hiii\n",
      "Hello\n",
      "Bye\n"
     ]
    }
   ],
   "source": [
    "main_welcome()"
   ]
  },
  {
   "cell_type": "markdown",
   "id": "01b952fb",
   "metadata": {},
   "source": [
    "All the returns inside the sub class gets executed too when calling the main function."
   ]
  },
  {
   "cell_type": "code",
   "execution_count": 98,
   "id": "21f19a48",
   "metadata": {},
   "outputs": [],
   "source": [
    "def main_welcome(func): # another way\n",
    "\n",
    "    def sub_welcome():\n",
    "        print('Hiii')\n",
    "        func('Hello guys')\n",
    "        print('Bye')\n",
    "    return sub_welcome()"
   ]
  },
  {
   "cell_type": "code",
   "execution_count": 100,
   "id": "c2ebc8ca",
   "metadata": {},
   "outputs": [
    {
     "name": "stdout",
     "output_type": "stream",
     "text": [
      "Hiii\n",
      "Hello guys\n",
      "Bye\n"
     ]
    }
   ],
   "source": [
    "main_welcome(print)"
   ]
  },
  {
   "cell_type": "markdown",
   "id": "e4fc1701",
   "metadata": {},
   "source": [
    "# Decorators -\n",
    "Calling a function within a function and also passing function as a parameter"
   ]
  },
  {
   "cell_type": "code",
   "execution_count": 101,
   "id": "edf8b21c",
   "metadata": {},
   "outputs": [],
   "source": [
    "def main_welcome(func): \n",
    "    def sub_welcome():\n",
    "        print('Hiii')\n",
    "        func()\n",
    "        print('Bye')\n",
    "    return sub_welcome()"
   ]
  },
  {
   "cell_type": "code",
   "execution_count": 102,
   "id": "e12fdde9",
   "metadata": {},
   "outputs": [],
   "source": [
    "def decorator_one():\n",
    "    print('Hellloo')"
   ]
  },
  {
   "cell_type": "code",
   "execution_count": 103,
   "id": "6046092c",
   "metadata": {},
   "outputs": [
    {
     "name": "stdout",
     "output_type": "stream",
     "text": [
      "Hiii\n",
      "Hellloo\n",
      "Bye\n"
     ]
    }
   ],
   "source": [
    "main_welcome(decorator_one) # the other function got called into the main function"
   ]
  },
  {
   "cell_type": "code",
   "execution_count": 104,
   "id": "39581803",
   "metadata": {},
   "outputs": [
    {
     "name": "stdout",
     "output_type": "stream",
     "text": [
      "Hiii\n",
      "This is another way of calling Decorator\n",
      "Bye\n"
     ]
    }
   ],
   "source": [
    "@main_welcome # decorator function\n",
    "def info():\n",
    "    print('This is another way of calling Decorator')"
   ]
  },
  {
   "cell_type": "markdown",
   "id": "33a8e180",
   "metadata": {},
   "source": [
    "A decorator is a design pattern in Python that allows a user to add new functionality to an existing object without modifying its structure. Decorators are typically applied to functions, and they play a crucial role in enhancing or modifying the behavior of functions."
   ]
  },
  {
   "cell_type": "markdown",
   "id": "cc376fc6",
   "metadata": {},
   "source": [
    "Functions in Python are first class citizens. This means that they support operations such as being passed as an argument, returned from a function, modified, and assigned to a variable. This property is crucial as it allows functions to be treated like any other object in Python, enabling greater flexibility in programming."
   ]
  },
  {
   "cell_type": "code",
   "execution_count": null,
   "id": "120a201b",
   "metadata": {},
   "outputs": [],
   "source": []
  }
 ],
 "metadata": {
  "kernelspec": {
   "display_name": "Python 3 (ipykernel)",
   "language": "python",
   "name": "python3"
  },
  "language_info": {
   "codemirror_mode": {
    "name": "ipython",
    "version": 3
   },
   "file_extension": ".py",
   "mimetype": "text/x-python",
   "name": "python",
   "nbconvert_exporter": "python",
   "pygments_lexer": "ipython3",
   "version": "3.7.7"
  }
 },
 "nbformat": 4,
 "nbformat_minor": 5
}
