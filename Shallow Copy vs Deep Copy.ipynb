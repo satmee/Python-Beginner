{
 "cells": [
  {
   "cell_type": "markdown",
   "id": "c405e297",
   "metadata": {},
   "source": [
    "# '='"
   ]
  },
  {
   "cell_type": "code",
   "execution_count": 63,
   "id": "e11fcb48",
   "metadata": {},
   "outputs": [],
   "source": [
    "lst1 = [1,2,3,4]\n",
    "lst2 = lst1"
   ]
  },
  {
   "cell_type": "code",
   "execution_count": 64,
   "id": "19ff1e59",
   "metadata": {},
   "outputs": [
    {
     "data": {
      "text/plain": [
       "([1, 2, 3, 4], [1, 2, 3, 4])"
      ]
     },
     "execution_count": 64,
     "metadata": {},
     "output_type": "execute_result"
    }
   ],
   "source": [
    "lst1, lst2"
   ]
  },
  {
   "cell_type": "code",
   "execution_count": 65,
   "id": "21dbaca0",
   "metadata": {},
   "outputs": [],
   "source": [
    "lst1[1]=1000"
   ]
  },
  {
   "cell_type": "code",
   "execution_count": 66,
   "id": "b56ef059",
   "metadata": {},
   "outputs": [
    {
     "data": {
      "text/plain": [
       "[1, 1000, 3, 4]"
      ]
     },
     "execution_count": 66,
     "metadata": {},
     "output_type": "execute_result"
    }
   ],
   "source": [
    "lst1"
   ]
  },
  {
   "cell_type": "code",
   "execution_count": 67,
   "id": "30db9895",
   "metadata": {},
   "outputs": [
    {
     "data": {
      "text/plain": [
       "[1, 1000, 3, 4]"
      ]
     },
     "execution_count": 67,
     "metadata": {},
     "output_type": "execute_result"
    }
   ],
   "source": [
    "lst2"
   ]
  },
  {
   "cell_type": "markdown",
   "id": "7fb3cf85",
   "metadata": {},
   "source": [
    "Chnage in lst1 gets refelected in lst2 as well, as they refer to same memory location."
   ]
  },
  {
   "cell_type": "markdown",
   "id": "fa944f4f",
   "metadata": {},
   "source": [
    "# Shallow Copy"
   ]
  },
  {
   "cell_type": "code",
   "execution_count": 68,
   "id": "5627ab6d",
   "metadata": {},
   "outputs": [],
   "source": [
    "gig = [9,4,5,7]"
   ]
  },
  {
   "cell_type": "code",
   "execution_count": 69,
   "id": "09ad9b0b",
   "metadata": {},
   "outputs": [],
   "source": [
    "gig1 =  gig.copy()"
   ]
  },
  {
   "cell_type": "code",
   "execution_count": 70,
   "id": "44756b4d",
   "metadata": {},
   "outputs": [],
   "source": [
    "gig[1]= 41"
   ]
  },
  {
   "cell_type": "code",
   "execution_count": 71,
   "id": "b255a9ad",
   "metadata": {},
   "outputs": [
    {
     "data": {
      "text/plain": [
       "[9, 41, 5, 7]"
      ]
     },
     "execution_count": 71,
     "metadata": {},
     "output_type": "execute_result"
    }
   ],
   "source": [
    "gig"
   ]
  },
  {
   "cell_type": "code",
   "execution_count": 72,
   "id": "814c5081",
   "metadata": {},
   "outputs": [
    {
     "data": {
      "text/plain": [
       "[9, 4, 5, 7]"
      ]
     },
     "execution_count": 72,
     "metadata": {},
     "output_type": "execute_result"
    }
   ],
   "source": [
    "gig1"
   ]
  },
  {
   "cell_type": "markdown",
   "id": "320abac3",
   "metadata": {},
   "source": [
    "Unlike before, with copy function, a new memory location is created for gig1 and all the elements of original gig has been stored in a newmemory location, thus there is no chnage."
   ]
  },
  {
   "cell_type": "code",
   "execution_count": 73,
   "id": "6a993966",
   "metadata": {},
   "outputs": [],
   "source": [
    "gig3 = [[1,2,3,4],[5,6,7,8]]"
   ]
  },
  {
   "cell_type": "code",
   "execution_count": 74,
   "id": "34062762",
   "metadata": {},
   "outputs": [],
   "source": [
    "gig4 = gig3.copy()"
   ]
  },
  {
   "cell_type": "code",
   "execution_count": 75,
   "id": "39b767ec",
   "metadata": {},
   "outputs": [
    {
     "data": {
      "text/plain": [
       "5"
      ]
     },
     "execution_count": 75,
     "metadata": {},
     "output_type": "execute_result"
    }
   ],
   "source": [
    "gig3[1][0]"
   ]
  },
  {
   "cell_type": "code",
   "execution_count": 76,
   "id": "3ac2f466",
   "metadata": {},
   "outputs": [],
   "source": [
    "gig3[1][0] =100"
   ]
  },
  {
   "cell_type": "code",
   "execution_count": 77,
   "id": "01e8f36a",
   "metadata": {},
   "outputs": [
    {
     "data": {
      "text/plain": [
       "([[1, 2, 3, 4], [100, 6, 7, 8]], [[1, 2, 3, 4], [100, 6, 7, 8]])"
      ]
     },
     "execution_count": 77,
     "metadata": {},
     "output_type": "execute_result"
    }
   ],
   "source": [
    "gig3, gig4"
   ]
  },
  {
   "cell_type": "markdown",
   "id": "2529cd7e",
   "metadata": {},
   "source": [
    "When it comes to nested list, each list- [1,2,3,4] is being treated like an item rather than where in single list, every elements like 1,2,3,4 are being treated like an item, thus the change gets reflected in both."
   ]
  },
  {
   "cell_type": "markdown",
   "id": "e5e03d71",
   "metadata": {},
   "source": [
    "# Deep Copy"
   ]
  },
  {
   "cell_type": "code",
   "execution_count": 78,
   "id": "e1b2e05f",
   "metadata": {},
   "outputs": [],
   "source": [
    "import copy"
   ]
  },
  {
   "cell_type": "code",
   "execution_count": 79,
   "id": "fd902e6f",
   "metadata": {},
   "outputs": [],
   "source": [
    "lst3 = [1,4,5,6]\n",
    "lst4 = copy.deepcopy(lst3)"
   ]
  },
  {
   "cell_type": "code",
   "execution_count": 80,
   "id": "aacedaeb",
   "metadata": {},
   "outputs": [],
   "source": [
    "lst3[2]=43"
   ]
  },
  {
   "cell_type": "code",
   "execution_count": 81,
   "id": "675a6f90",
   "metadata": {},
   "outputs": [
    {
     "data": {
      "text/plain": [
       "[1, 4, 43, 6]"
      ]
     },
     "execution_count": 81,
     "metadata": {},
     "output_type": "execute_result"
    }
   ],
   "source": [
    "lst3"
   ]
  },
  {
   "cell_type": "code",
   "execution_count": 82,
   "id": "6adb87b1",
   "metadata": {},
   "outputs": [
    {
     "data": {
      "text/plain": [
       "[1, 4, 5, 6]"
      ]
     },
     "execution_count": 82,
     "metadata": {},
     "output_type": "execute_result"
    }
   ],
   "source": [
    "lst4"
   ]
  },
  {
   "cell_type": "markdown",
   "id": "6d35c1f6",
   "metadata": {},
   "source": [
    "Just like shallow copy,it works here too. Now, check for nested list"
   ]
  },
  {
   "cell_type": "code",
   "execution_count": 83,
   "id": "bad9cb0f",
   "metadata": {},
   "outputs": [],
   "source": [
    "pop = [[1,2,3,4],[5,6,7,8],[4,1,5,6]]"
   ]
  },
  {
   "cell_type": "code",
   "execution_count": 84,
   "id": "c1f4f257",
   "metadata": {},
   "outputs": [],
   "source": [
    "pop2 = copy.deepcopy(pop)"
   ]
  },
  {
   "cell_type": "code",
   "execution_count": 85,
   "id": "3681ac46",
   "metadata": {},
   "outputs": [],
   "source": [
    "pop[2][0] = 100"
   ]
  },
  {
   "cell_type": "code",
   "execution_count": 86,
   "id": "d1105c21",
   "metadata": {},
   "outputs": [
    {
     "data": {
      "text/plain": [
       "[[1, 2, 3, 4], [5, 6, 7, 8], [100, 1, 5, 6]]"
      ]
     },
     "execution_count": 86,
     "metadata": {},
     "output_type": "execute_result"
    }
   ],
   "source": [
    "pop"
   ]
  },
  {
   "cell_type": "code",
   "execution_count": 87,
   "id": "74238cdd",
   "metadata": {},
   "outputs": [
    {
     "data": {
      "text/plain": [
       "[[1, 2, 3, 4], [5, 6, 7, 8], [4, 1, 5, 6]]"
      ]
     },
     "execution_count": 87,
     "metadata": {},
     "output_type": "execute_result"
    }
   ],
   "source": [
    "pop2"
   ]
  },
  {
   "cell_type": "markdown",
   "id": "8d6eaeb2",
   "metadata": {},
   "source": [
    "No, change"
   ]
  },
  {
   "cell_type": "markdown",
   "id": "61dc437d",
   "metadata": {},
   "source": [
    "## Confusion - "
   ]
  },
  {
   "cell_type": "code",
   "execution_count": 88,
   "id": "685b5876",
   "metadata": {},
   "outputs": [],
   "source": [
    "import numpy as np"
   ]
  },
  {
   "cell_type": "code",
   "execution_count": 89,
   "id": "032a1b6e",
   "metadata": {},
   "outputs": [],
   "source": [
    "n = np.array([[1,2,3,4],[4,5,6,7],[3,2,4,5]])"
   ]
  },
  {
   "cell_type": "code",
   "execution_count": 90,
   "id": "3994e407",
   "metadata": {},
   "outputs": [
    {
     "data": {
      "text/plain": [
       "array([[1, 2, 3, 4],\n",
       "       [4, 5, 6, 7],\n",
       "       [3, 2, 4, 5]])"
      ]
     },
     "execution_count": 90,
     "metadata": {},
     "output_type": "execute_result"
    }
   ],
   "source": [
    "n"
   ]
  },
  {
   "cell_type": "code",
   "execution_count": 91,
   "id": "ee5917bd",
   "metadata": {},
   "outputs": [],
   "source": [
    "n1 = n.copy()"
   ]
  },
  {
   "cell_type": "code",
   "execution_count": 92,
   "id": "d406e522",
   "metadata": {},
   "outputs": [
    {
     "data": {
      "text/plain": [
       "array([[1, 2, 3, 4],\n",
       "       [4, 5, 6, 7],\n",
       "       [3, 2, 4, 5]])"
      ]
     },
     "execution_count": 92,
     "metadata": {},
     "output_type": "execute_result"
    }
   ],
   "source": [
    "n1"
   ]
  },
  {
   "cell_type": "code",
   "execution_count": 93,
   "id": "22496398",
   "metadata": {},
   "outputs": [],
   "source": [
    "n[1][0] = 300"
   ]
  },
  {
   "cell_type": "code",
   "execution_count": 94,
   "id": "ed6aa995",
   "metadata": {},
   "outputs": [
    {
     "data": {
      "text/plain": [
       "array([[  1,   2,   3,   4],\n",
       "       [300,   5,   6,   7],\n",
       "       [  3,   2,   4,   5]])"
      ]
     },
     "execution_count": 94,
     "metadata": {},
     "output_type": "execute_result"
    }
   ],
   "source": [
    "n"
   ]
  },
  {
   "cell_type": "code",
   "execution_count": 95,
   "id": "9e7d3169",
   "metadata": {},
   "outputs": [
    {
     "data": {
      "text/plain": [
       "array([[1, 2, 3, 4],\n",
       "       [4, 5, 6, 7],\n",
       "       [3, 2, 4, 5]])"
      ]
     },
     "execution_count": 95,
     "metadata": {},
     "output_type": "execute_result"
    }
   ],
   "source": [
    "n1"
   ]
  },
  {
   "cell_type": "code",
   "execution_count": 96,
   "id": "ebb20c51",
   "metadata": {},
   "outputs": [],
   "source": [
    "m = np.array([[[1, 2, 3, 4], [5, 6, 7, 8], [9, 10, 11, 12]],\n",
    "                   [[13, 14, 15, 16], [17, 18, 19, 20], [21, 22, 23, 24]]])\n"
   ]
  },
  {
   "cell_type": "code",
   "execution_count": 97,
   "id": "212e1959",
   "metadata": {},
   "outputs": [],
   "source": [
    "m1 = m.copy()"
   ]
  },
  {
   "cell_type": "code",
   "execution_count": 98,
   "id": "7c5cb3a9",
   "metadata": {},
   "outputs": [
    {
     "data": {
      "text/plain": [
       "array([[[ 1,  2,  3,  4],\n",
       "        [ 5,  6,  7,  8],\n",
       "        [ 9, 10, 11, 12]],\n",
       "\n",
       "       [[13, 14, 15, 16],\n",
       "        [17, 18, 19, 20],\n",
       "        [21, 22, 23, 24]]])"
      ]
     },
     "execution_count": 98,
     "metadata": {},
     "output_type": "execute_result"
    }
   ],
   "source": [
    "m1"
   ]
  },
  {
   "cell_type": "code",
   "execution_count": 99,
   "id": "122528e8",
   "metadata": {},
   "outputs": [],
   "source": [
    "m1[1][0][1] = 100"
   ]
  },
  {
   "cell_type": "code",
   "execution_count": 100,
   "id": "8293e37a",
   "metadata": {},
   "outputs": [
    {
     "data": {
      "text/plain": [
       "array([[[  1,   2,   3,   4],\n",
       "        [  5,   6,   7,   8],\n",
       "        [  9,  10,  11,  12]],\n",
       "\n",
       "       [[ 13, 100,  15,  16],\n",
       "        [ 17,  18,  19,  20],\n",
       "        [ 21,  22,  23,  24]]])"
      ]
     },
     "execution_count": 100,
     "metadata": {},
     "output_type": "execute_result"
    }
   ],
   "source": [
    "m1"
   ]
  },
  {
   "cell_type": "code",
   "execution_count": 101,
   "id": "bc46d5ec",
   "metadata": {},
   "outputs": [
    {
     "data": {
      "text/plain": [
       "array([[[ 1,  2,  3,  4],\n",
       "        [ 5,  6,  7,  8],\n",
       "        [ 9, 10, 11, 12]],\n",
       "\n",
       "       [[13, 14, 15, 16],\n",
       "        [17, 18, 19, 20],\n",
       "        [21, 22, 23, 24]]])"
      ]
     },
     "execution_count": 101,
     "metadata": {},
     "output_type": "execute_result"
    }
   ],
   "source": [
    "m"
   ]
  },
  {
   "cell_type": "code",
   "execution_count": 102,
   "id": "29b2520e",
   "metadata": {},
   "outputs": [],
   "source": [
    "m[0][2][1] = 100"
   ]
  },
  {
   "cell_type": "code",
   "execution_count": 103,
   "id": "c55f320a",
   "metadata": {},
   "outputs": [
    {
     "data": {
      "text/plain": [
       "array([[[  1,   2,   3,   4],\n",
       "        [  5,   6,   7,   8],\n",
       "        [  9, 100,  11,  12]],\n",
       "\n",
       "       [[ 13,  14,  15,  16],\n",
       "        [ 17,  18,  19,  20],\n",
       "        [ 21,  22,  23,  24]]])"
      ]
     },
     "execution_count": 103,
     "metadata": {},
     "output_type": "execute_result"
    }
   ],
   "source": [
    "m"
   ]
  },
  {
   "cell_type": "code",
   "execution_count": 104,
   "id": "e9aecad9",
   "metadata": {},
   "outputs": [
    {
     "data": {
      "text/plain": [
       "array([[[  1,   2,   3,   4],\n",
       "        [  5,   6,   7,   8],\n",
       "        [  9,  10,  11,  12]],\n",
       "\n",
       "       [[ 13, 100,  15,  16],\n",
       "        [ 17,  18,  19,  20],\n",
       "        [ 21,  22,  23,  24]]])"
      ]
     },
     "execution_count": 104,
     "metadata": {},
     "output_type": "execute_result"
    }
   ],
   "source": [
    "m1"
   ]
  },
  {
   "cell_type": "code",
   "execution_count": 105,
   "id": "3528464c",
   "metadata": {},
   "outputs": [],
   "source": [
    "m2 = copy.deepcopy(m)"
   ]
  },
  {
   "cell_type": "code",
   "execution_count": 106,
   "id": "3d748688",
   "metadata": {},
   "outputs": [],
   "source": [
    "m[0][1][1] = 500"
   ]
  },
  {
   "cell_type": "code",
   "execution_count": 107,
   "id": "2890d8d4",
   "metadata": {},
   "outputs": [
    {
     "data": {
      "text/plain": [
       "array([[[  1,   2,   3,   4],\n",
       "        [  5, 500,   7,   8],\n",
       "        [  9, 100,  11,  12]],\n",
       "\n",
       "       [[ 13,  14,  15,  16],\n",
       "        [ 17,  18,  19,  20],\n",
       "        [ 21,  22,  23,  24]]])"
      ]
     },
     "execution_count": 107,
     "metadata": {},
     "output_type": "execute_result"
    }
   ],
   "source": [
    "m"
   ]
  },
  {
   "cell_type": "code",
   "execution_count": 108,
   "id": "d0b9f1ea",
   "metadata": {},
   "outputs": [
    {
     "data": {
      "text/plain": [
       "array([[[  1,   2,   3,   4],\n",
       "        [  5,   6,   7,   8],\n",
       "        [  9, 100,  11,  12]],\n",
       "\n",
       "       [[ 13,  14,  15,  16],\n",
       "        [ 17,  18,  19,  20],\n",
       "        [ 21,  22,  23,  24]]])"
      ]
     },
     "execution_count": 108,
     "metadata": {},
     "output_type": "execute_result"
    }
   ],
   "source": [
    "m2"
   ]
  },
  {
   "cell_type": "code",
   "execution_count": 109,
   "id": "e69bf01f",
   "metadata": {},
   "outputs": [
    {
     "data": {
      "text/plain": [
       "array([[[  1,   2,   3,   4],\n",
       "        [  5,   6,   7,   8],\n",
       "        [  9,  10,  11,  12]],\n",
       "\n",
       "       [[ 13, 100,  15,  16],\n",
       "        [ 17,  18,  19,  20],\n",
       "        [ 21,  22,  23,  24]]])"
      ]
     },
     "execution_count": 109,
     "metadata": {},
     "output_type": "execute_result"
    }
   ],
   "source": [
    "m1"
   ]
  },
  {
   "cell_type": "code",
   "execution_count": null,
   "id": "4001de02",
   "metadata": {},
   "outputs": [],
   "source": []
  }
 ],
 "metadata": {
  "kernelspec": {
   "display_name": "Python 3 (ipykernel)",
   "language": "python",
   "name": "python3"
  },
  "language_info": {
   "codemirror_mode": {
    "name": "ipython",
    "version": 3
   },
   "file_extension": ".py",
   "mimetype": "text/x-python",
   "name": "python",
   "nbconvert_exporter": "python",
   "pygments_lexer": "ipython3",
   "version": "3.7.7"
  }
 },
 "nbformat": 4,
 "nbformat_minor": 5
}
