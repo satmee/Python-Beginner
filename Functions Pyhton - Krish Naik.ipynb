{
 "cells": [
  {
   "cell_type": "markdown",
   "id": "03d29afb",
   "metadata": {},
   "source": [
    "# Functions in Python\n",
    " 1. Why function\n",
    " 2. Function Defination\n",
    " 3. Posiitonal and Keyword Argumentation in Python\n",
    " \\\\"
   ]
  },
  {
   "cell_type": "code",
   "execution_count": 1,
   "id": "de3b05c5",
   "metadata": {},
   "outputs": [],
   "source": [
    "num = 48.5"
   ]
  },
  {
   "cell_type": "code",
   "execution_count": 2,
   "id": "9e3bfea9",
   "metadata": {},
   "outputs": [],
   "source": [
    "def even_odd(num):\n",
    "    if num%2 == 0:\n",
    "        print('This is Even')\n",
    "    else:\n",
    "        print('This is odd')"
   ]
  },
  {
   "cell_type": "code",
   "execution_count": 3,
   "id": "06fe6156",
   "metadata": {},
   "outputs": [
    {
     "name": "stdout",
     "output_type": "stream",
     "text": [
      "This is odd\n"
     ]
    }
   ],
   "source": [
    "even_odd(49)"
   ]
  },
  {
   "cell_type": "code",
   "execution_count": 4,
   "id": "c9b1cfe4",
   "metadata": {},
   "outputs": [
    {
     "ename": "TypeError",
     "evalue": "even_odd() missing 1 required positional argument: 'num'",
     "output_type": "error",
     "traceback": [
      "\u001b[1;31m---------------------------------------------------------------------------\u001b[0m",
      "\u001b[1;31mTypeError\u001b[0m                                 Traceback (most recent call last)",
      "\u001b[1;32m~\\AppData\\Local\\Temp\\ipykernel_7396\\3769815324.py\u001b[0m in \u001b[0;36m<module>\u001b[1;34m\u001b[0m\n\u001b[1;32m----> 1\u001b[1;33m \u001b[0meven_odd\u001b[0m\u001b[1;33m(\u001b[0m\u001b[1;33m)\u001b[0m \u001b[1;31m#This requires posiiton arguement\u001b[0m\u001b[1;33m\u001b[0m\u001b[1;33m\u001b[0m\u001b[0m\n\u001b[0m",
      "\u001b[1;31mTypeError\u001b[0m: even_odd() missing 1 required positional argument: 'num'"
     ]
    }
   ],
   "source": [
    "even_odd() #This requires posiiton arguement"
   ]
  },
  {
   "cell_type": "code",
   "execution_count": 5,
   "id": "5f044ae9",
   "metadata": {},
   "outputs": [],
   "source": [
    "def hello_world():\n",
    "    print('Hello World')"
   ]
  },
  {
   "cell_type": "code",
   "execution_count": 6,
   "id": "6e5258a2",
   "metadata": {},
   "outputs": [
    {
     "name": "stdout",
     "output_type": "stream",
     "text": [
      "Hello World\n"
     ]
    }
   ],
   "source": [
    "hello_world() # No such error this time"
   ]
  },
  {
   "cell_type": "code",
   "execution_count": 7,
   "id": "0b7ba66a",
   "metadata": {},
   "outputs": [
    {
     "name": "stdout",
     "output_type": "stream",
     "text": [
      "Hello World\n"
     ]
    }
   ],
   "source": [
    "val = hello_world()"
   ]
  },
  {
   "cell_type": "code",
   "execution_count": 8,
   "id": "3b725c62",
   "metadata": {},
   "outputs": [
    {
     "name": "stdout",
     "output_type": "stream",
     "text": [
      "None\n"
     ]
    }
   ],
   "source": [
    "print(val)"
   ]
  },
  {
   "cell_type": "code",
   "execution_count": 9,
   "id": "2616b185",
   "metadata": {},
   "outputs": [],
   "source": [
    "#But\n",
    "def hello_world():\n",
    "    return('Hello World')"
   ]
  },
  {
   "cell_type": "code",
   "execution_count": 10,
   "id": "6e6dace8",
   "metadata": {},
   "outputs": [
    {
     "data": {
      "text/plain": [
       "'Hello World'"
      ]
     },
     "execution_count": 10,
     "metadata": {},
     "output_type": "execute_result"
    }
   ],
   "source": [
    "hello_world()"
   ]
  },
  {
   "cell_type": "code",
   "execution_count": 11,
   "id": "4b248978",
   "metadata": {},
   "outputs": [],
   "source": [
    "val = hello_world()"
   ]
  },
  {
   "cell_type": "code",
   "execution_count": 12,
   "id": "ea635b93",
   "metadata": {
    "scrolled": true
   },
   "outputs": [
    {
     "name": "stdout",
     "output_type": "stream",
     "text": [
      "Hello World\n"
     ]
    }
   ],
   "source": [
    "print(val) # difference in retuen and print"
   ]
  },
  {
   "cell_type": "markdown",
   "id": "1202c948",
   "metadata": {},
   "source": [
    "print just shows the human user a string representing what is going on inside the computer. The computer cannot make use of that printing. return is how a function gives back a value. "
   ]
  },
  {
   "cell_type": "code",
   "execution_count": 13,
   "id": "ff1b1db1",
   "metadata": {},
   "outputs": [],
   "source": [
    "def myself(name, age='22'):\n",
    "    return ('My name is {} and age is {}'.format(name,age))"
   ]
  },
  {
   "cell_type": "code",
   "execution_count": 14,
   "id": "d394a630",
   "metadata": {},
   "outputs": [
    {
     "data": {
      "text/plain": [
       "'My name is Sathi and age is 22'"
      ]
     },
     "execution_count": 14,
     "metadata": {},
     "output_type": "execute_result"
    }
   ],
   "source": [
    "myself('Sathi')"
   ]
  },
  {
   "cell_type": "markdown",
   "id": "a78223b8",
   "metadata": {},
   "source": [
    "Here 'name' is posiitional arguement as a value has to be assigned while calling the function else there will be error but in case of 'age' a keyword arguement, so even if we don't asign any value while calling the function, it will impkement the default value assigned and won't give any error"
   ]
  },
  {
   "cell_type": "code",
   "execution_count": 15,
   "id": "ea8e1317",
   "metadata": {},
   "outputs": [],
   "source": [
    "def hi(*args,**kwargs):\n",
    "    print(args)\n",
    "    print(kwargs)"
   ]
  },
  {
   "cell_type": "code",
   "execution_count": 16,
   "id": "7f930541",
   "metadata": {},
   "outputs": [
    {
     "name": "stdout",
     "output_type": "stream",
     "text": [
      "('Sathi', 'Banerjee')\n",
      "{'age': 22, 'dob': 2001}\n"
     ]
    }
   ],
   "source": [
    "hi('Sathi','Banerjee', age = 22, dob = 2001)"
   ]
  },
  {
   "cell_type": "code",
   "execution_count": 17,
   "id": "1d073b7c",
   "metadata": {},
   "outputs": [],
   "source": [
    "lst = ['Sathi','Banerjee']\n",
    "dict_arg = {'age' : 20, 'dob': 2001}"
   ]
  },
  {
   "cell_type": "code",
   "execution_count": 18,
   "id": "3a4bcbd2",
   "metadata": {},
   "outputs": [
    {
     "name": "stdout",
     "output_type": "stream",
     "text": [
      "('Sathi', 'Banerjee')\n",
      "{'age': 20, 'dob': 2001}\n"
     ]
    }
   ],
   "source": [
    "hi(*lst, **dict_arg)"
   ]
  },
  {
   "cell_type": "code",
   "execution_count": 19,
   "id": "62a42b05",
   "metadata": {},
   "outputs": [],
   "source": [
    "lst = [1,2,4,1,6,9,15,10,3,7]"
   ]
  },
  {
   "cell_type": "code",
   "execution_count": 20,
   "id": "c738c2c7",
   "metadata": {},
   "outputs": [],
   "source": [
    "def oddevensum(lst):\n",
    "    even_sum = 0\n",
    "    odd_sum =0\n",
    "    for i in lst:\n",
    "        if i%2 ==0:\n",
    "            even_sum = even_sum+i\n",
    "    else:\n",
    "        odd_sum = odd_sum+i\n",
    "    return even_sum,odd_sum"
   ]
  },
  {
   "cell_type": "code",
   "execution_count": 21,
   "id": "e6979e5e",
   "metadata": {},
   "outputs": [
    {
     "data": {
      "text/plain": [
       "(22, 7)"
      ]
     },
     "execution_count": 21,
     "metadata": {},
     "output_type": "execute_result"
    }
   ],
   "source": [
    "oddevensum(lst)"
   ]
  },
  {
   "cell_type": "markdown",
   "id": "6d8e0a1b",
   "metadata": {},
   "source": [
    "In args, arguements are passed as tuples but in kwargs they are passed as dictionary."
   ]
  },
  {
   "cell_type": "markdown",
   "id": "da68e851",
   "metadata": {},
   "source": [
    "*args and **kwargs are special keyword which allows function to take variable length argument."
   ]
  },
  {
   "cell_type": "code",
   "execution_count": null,
   "id": "4573c2bc",
   "metadata": {},
   "outputs": [],
   "source": []
  },
  {
   "cell_type": "code",
   "execution_count": null,
   "id": "be79fbf9",
   "metadata": {},
   "outputs": [],
   "source": []
  }
 ],
 "metadata": {
  "kernelspec": {
   "display_name": "Python 3 (ipykernel)",
   "language": "python",
   "name": "python3"
  },
  "language_info": {
   "codemirror_mode": {
    "name": "ipython",
    "version": 3
   },
   "file_extension": ".py",
   "mimetype": "text/x-python",
   "name": "python",
   "nbconvert_exporter": "python",
   "pygments_lexer": "ipython3",
   "version": "3.7.7"
  }
 },
 "nbformat": 4,
 "nbformat_minor": 5
}
