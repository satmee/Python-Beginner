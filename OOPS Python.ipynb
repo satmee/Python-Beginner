{
 "cells": [
  {
   "cell_type": "markdown",
   "id": "46bc9551",
   "metadata": {},
   "source": [
    "# OOPS in Python"
   ]
  },
  {
   "cell_type": "markdown",
   "id": "97768250",
   "metadata": {},
   "source": [
    "Class is real word objects having properties, attributes and function. It contains prototypes from which objects are created. \n",
    "1. Classes are created by keyword class.\n",
    "2. Attributes are the variables that belong to a class.\n",
    "3. Attributes are always public and can be accessed using the dot (.) operator. Eg.: Myclass.Myattribute"
   ]
  },
  {
   "cell_type": "code",
   "execution_count": 22,
   "id": "fd46494b",
   "metadata": {},
   "outputs": [],
   "source": [
    "class car():\n",
    "    pass"
   ]
  },
  {
   "cell_type": "code",
   "execution_count": 23,
   "id": "cc1a80d1",
   "metadata": {},
   "outputs": [],
   "source": [
    "car1 = car()"
   ]
  },
  {
   "cell_type": "code",
   "execution_count": 16,
   "id": "3216ca71",
   "metadata": {},
   "outputs": [
    {
     "data": {
      "text/plain": [
       "<__main__.car at 0x1d3f8805a08>"
      ]
     },
     "execution_count": 16,
     "metadata": {},
     "output_type": "execute_result"
    }
   ],
   "source": [
    "car1"
   ]
  },
  {
   "cell_type": "code",
   "execution_count": 17,
   "id": "5a1ad59a",
   "metadata": {},
   "outputs": [],
   "source": [
    "car1.windows = 1\n",
    "car1.doors = 2"
   ]
  },
  {
   "cell_type": "code",
   "execution_count": 18,
   "id": "3030c15a",
   "metadata": {},
   "outputs": [
    {
     "name": "stdout",
     "output_type": "stream",
     "text": [
      "1\n"
     ]
    }
   ],
   "source": [
    "print(car1.windows)"
   ]
  },
  {
   "cell_type": "code",
   "execution_count": 19,
   "id": "ed981879",
   "metadata": {},
   "outputs": [
    {
     "data": {
      "text/plain": [
       "['__class__',\n",
       " '__delattr__',\n",
       " '__dict__',\n",
       " '__dir__',\n",
       " '__doc__',\n",
       " '__eq__',\n",
       " '__format__',\n",
       " '__ge__',\n",
       " '__getattribute__',\n",
       " '__gt__',\n",
       " '__hash__',\n",
       " '__init__',\n",
       " '__init_subclass__',\n",
       " '__le__',\n",
       " '__lt__',\n",
       " '__module__',\n",
       " '__ne__',\n",
       " '__new__',\n",
       " '__reduce__',\n",
       " '__reduce_ex__',\n",
       " '__repr__',\n",
       " '__setattr__',\n",
       " '__sizeof__',\n",
       " '__str__',\n",
       " '__subclasshook__',\n",
       " '__weakref__']"
      ]
     },
     "execution_count": 19,
     "metadata": {},
     "output_type": "execute_result"
    }
   ],
   "source": [
    "dir(car())"
   ]
  },
  {
   "cell_type": "code",
   "execution_count": 20,
   "id": "bb954263",
   "metadata": {},
   "outputs": [],
   "source": [
    "class house():\n",
    "    def __init__(self, window, floor, color): #Constructor , helps you  in initializations with your objects\n",
    "        self.window = window # Attributes\n",
    "        self.floor = floor\n",
    "        self.color = color\n",
    "    def color(self,bi):\n",
    "        return 'This is a {} house.'.format(self.bi)"
   ]
  },
  {
   "cell_type": "markdown",
   "id": "fb35b50d",
   "metadata": {},
   "source": [
    "self is basically getting initialized for'house1' object so this self take the reference of this particular object and\n",
    "for this object the windows our tribute will be set to this particular value that door attribute will be set to this particular value and the engine type will be set to this particular value"
   ]
  },
  {
   "cell_type": "code",
   "execution_count": 21,
   "id": "84e45e13",
   "metadata": {},
   "outputs": [],
   "source": [
    "house1 = house(8,5,'red') # house1 is the object"
   ]
  },
  {
   "cell_type": "markdown",
   "id": "a1761669",
   "metadata": {},
   "source": [
    "## Python Objects\n",
    "The object is an entity that has a state and behavior associated with it. Integers, strings, floating-point numbers, even arrays, and dictionaries, are all objects. More specifically, any single integer or any single string is an object. The number 12 is an object, the string “Hello, world” is an object, a list is an object that can hold other objects, and so on. You’ve been using objects all along and may not even realize it.\n",
    "\n",
    "An object consists of:\n",
    "\n",
    "1. State: It is represented by the attributes of an object. It also reflects the properties of an object.\n",
    "2. Behavior: It is represented by the methods of an object. It also reflects the response of an object to other objects.\n",
    "3. Identity: It gives a unique name to an object and enables one object to interact with other objects."
   ]
  },
  {
   "cell_type": "markdown",
   "id": "66de1c0e",
   "metadata": {},
   "source": [
    "# Python Exception Handling"
   ]
  },
  {
   "cell_type": "code",
   "execution_count": 9,
   "id": "550dce73",
   "metadata": {},
   "outputs": [
    {
     "ename": "NameError",
     "evalue": "name 'b' is not defined",
     "output_type": "error",
     "traceback": [
      "\u001b[1;31m---------------------------------------------------------------------------\u001b[0m",
      "\u001b[1;31mNameError\u001b[0m                                 Traceback (most recent call last)",
      "\u001b[1;32m~\\AppData\\Local\\Temp\\ipykernel_13880\\2175567836.py\u001b[0m in \u001b[0;36m<module>\u001b[1;34m\u001b[0m\n\u001b[1;32m----> 1\u001b[1;33m \u001b[0ma\u001b[0m\u001b[1;33m=\u001b[0m\u001b[0mb\u001b[0m \u001b[1;31m# There is an error, to handle this we use Exception handling\u001b[0m\u001b[1;33m\u001b[0m\u001b[1;33m\u001b[0m\u001b[0m\n\u001b[0m",
      "\u001b[1;31mNameError\u001b[0m: name 'b' is not defined"
     ]
    }
   ],
   "source": [
    "a=b # There is an error, to handle this we use Exception handling"
   ]
  },
  {
   "cell_type": "code",
   "execution_count": 10,
   "id": "64df233a",
   "metadata": {},
   "outputs": [
    {
     "name": "stdout",
     "output_type": "stream",
     "text": [
      "There is some exception\n"
     ]
    }
   ],
   "source": [
    "try: # the code is run under try\n",
    "    #code block where exception can occur\n",
    "    a=b\n",
    "except: # catch it under except\n",
    "    print('There is some exception')"
   ]
  },
  {
   "cell_type": "markdown",
   "id": "a0f77d98",
   "metadata": {},
   "source": [
    "But what is the exception? For this we call Exception class."
   ]
  },
  {
   "cell_type": "code",
   "execution_count": 11,
   "id": "c7d281cc",
   "metadata": {},
   "outputs": [
    {
     "name": "stdout",
     "output_type": "stream",
     "text": [
      "name 'b' is not defined\n"
     ]
    }
   ],
   "source": [
    "try:\n",
    "    #code block where exception can occur\n",
    "    a=b\n",
    "except Exception as ex:\n",
    "    print(ex)"
   ]
  },
  {
   "cell_type": "markdown",
   "id": "32834d44",
   "metadata": {},
   "source": [
    "We can see what the issue is."
   ]
  },
  {
   "cell_type": "code",
   "execution_count": 12,
   "id": "c61e1a67",
   "metadata": {},
   "outputs": [
    {
     "name": "stdout",
     "output_type": "stream",
     "text": [
      "unsupported operand type(s) for +: 'int' and 'str'\n"
     ]
    }
   ],
   "source": [
    "try: # If it's not the case of NameError, the second exception gets executed\n",
    "    a=1\n",
    "    b='s'\n",
    "    c = a+b\n",
    "except NameError as ex1:\n",
    "    print('The user have not defined the variable.')\n",
    "except Exception as ex:\n",
    "    print(ex)"
   ]
  },
  {
   "cell_type": "code",
   "execution_count": 13,
   "id": "c19e358a",
   "metadata": {},
   "outputs": [
    {
     "ename": "TypeError",
     "evalue": "unsupported operand type(s) for +: 'int' and 'str'",
     "output_type": "error",
     "traceback": [
      "\u001b[1;31m---------------------------------------------------------------------------\u001b[0m",
      "\u001b[1;31mTypeError\u001b[0m                                 Traceback (most recent call last)",
      "\u001b[1;32m~\\AppData\\Local\\Temp\\ipykernel_13880\\3760158501.py\u001b[0m in \u001b[0;36m<module>\u001b[1;34m\u001b[0m\n\u001b[0;32m      1\u001b[0m \u001b[0ma\u001b[0m\u001b[1;33m=\u001b[0m\u001b[1;36m1\u001b[0m\u001b[1;33m\u001b[0m\u001b[1;33m\u001b[0m\u001b[0m\n\u001b[0;32m      2\u001b[0m \u001b[0mb\u001b[0m\u001b[1;33m=\u001b[0m\u001b[1;34m's'\u001b[0m\u001b[1;33m\u001b[0m\u001b[1;33m\u001b[0m\u001b[0m\n\u001b[1;32m----> 3\u001b[1;33m \u001b[0mc\u001b[0m \u001b[1;33m=\u001b[0m \u001b[0ma\u001b[0m\u001b[1;33m+\u001b[0m\u001b[0mb\u001b[0m \u001b[1;31m# It's a TypeError\u001b[0m\u001b[1;33m\u001b[0m\u001b[1;33m\u001b[0m\u001b[0m\n\u001b[0m",
      "\u001b[1;31mTypeError\u001b[0m: unsupported operand type(s) for +: 'int' and 'str'"
     ]
    }
   ],
   "source": [
    "a=1\n",
    "b='s'\n",
    "c = a+b # It's a TypeError"
   ]
  },
  {
   "cell_type": "code",
   "execution_count": 17,
   "id": "de04d240",
   "metadata": {},
   "outputs": [
    {
     "name": "stdout",
     "output_type": "stream",
     "text": [
      "Try to get the data types similar\n"
     ]
    }
   ],
   "source": [
    "try: # Getting it for TypeError now\n",
    "    a=1\n",
    "    b='s'\n",
    "    c = a+b\n",
    "except NameError as ex1:\n",
    "    print('The user have not defined the variable.')\n",
    "except TypeError as ex2:\n",
    "    print('Try to get the data types similar')\n",
    "except Exception as ex:\n",
    "    print(ex)"
   ]
  },
  {
   "cell_type": "code",
   "execution_count": 21,
   "id": "19f4301c",
   "metadata": {},
   "outputs": [
    {
     "name": "stdout",
     "output_type": "stream",
     "text": [
      "Enter the 1st number:54\n",
      "Enter the 2nd number:0\n",
      "Please enter a number greater than 0\n"
     ]
    }
   ],
   "source": [
    "try: # Handling Zero Division Error\n",
    "    x = int(input('Enter the 1st number:'))\n",
    "    y = int(input('Enter the 2nd number:'))\n",
    "    z = x/y\n",
    "    print(z)\n",
    "except ZeroDivisionError as ex3:\n",
    "    print('Please enter a number greater than 0')\n",
    "except NameError as ex1:\n",
    "    print('The user have not defined the variable.')\n",
    "except TypeError as ex2:\n",
    "    print('Try to get the data types similar')\n",
    "except Exception as ex:\n",
    "    print(ex)"
   ]
  },
  {
   "cell_type": "code",
   "execution_count": 22,
   "id": "c0f341c0",
   "metadata": {},
   "outputs": [
    {
     "name": "stdout",
     "output_type": "stream",
     "text": [
      "Enter the 1st number:54\n",
      "Enter the 2nd number:4\n",
      "13.5\n"
     ]
    }
   ],
   "source": [
    "try:\n",
    "    x = int(input('Enter the 1st number:'))\n",
    "    y = int(input('Enter the 2nd number:'))\n",
    "    z = x/y\n",
    "except ZeroDivisionError as ex3:\n",
    "    print('Please enter a number greater than 0')\n",
    "except NameError as ex1:\n",
    "    print('The user have not defined the variable.')\n",
    "except TypeError as ex2:\n",
    "    print('Try to get the data types similar')\n",
    "except Exception as ex:\n",
    "    print(ex)\n",
    "else:\n",
    "       print(z) # If no Exception is triggered, it jumps to else and prints the ouput"
   ]
  },
  {
   "cell_type": "code",
   "execution_count": 23,
   "id": "806aa77d",
   "metadata": {},
   "outputs": [
    {
     "name": "stdout",
     "output_type": "stream",
     "text": [
      "Enter the 1st number:12\n",
      "Enter the 2nd number:3\n",
      "4.0\n",
      "Execution is completed\n"
     ]
    }
   ],
   "source": [
    "try: \n",
    "    x = int(input('Enter the 1st number:'))\n",
    "    y = int(input('Enter the 2nd number:'))\n",
    "    z = x/y\n",
    "except ZeroDivisionError as ex3:\n",
    "    print('Please enter a number greater than 0')\n",
    "except NameError as ex1:\n",
    "    print('The user have not defined the variable.')\n",
    "except TypeError as ex2:\n",
    "    print('Try to get the data types similar')\n",
    "except Exception as ex:\n",
    "    print(ex)\n",
    "else:\n",
    "       print(z)\n",
    "finally: # It gets executed even when try or else runs, \n",
    "    #basically used for closing the database after performing operations on them\n",
    "    print('Execution is completed')"
   ]
  },
  {
   "cell_type": "markdown",
   "id": "3893af5d",
   "metadata": {},
   "source": [
    "### Important - \n",
    "Errors and Exceptions, both are Run time error, which happens during execution of the program. In simple words, Error is not catchable but Exception is desgined to be get caught.\n",
    "\n",
    "Here is the list of default Python exceptions with descriptions:\n",
    "\n",
    "1. AssertionError: raised when the assert statement fails.\n",
    "2. EOFError: raised when the input() function meets the end-of-file condition.\n",
    "3. AttributeError: raised when the attribute assignment or reference fails.\n",
    "4. TabError: raised when the indentations consist of inconsistent tabs or spaces. \n",
    "5. ImportError: raised when importing the module fails. \n",
    "6. IndexError: occurs when the index of a sequence is out of range\n",
    "7. KeyboardInterrupt: raised when the user inputs interrupt keys (Ctrl + C or Delete).\n",
    "8. RuntimeError: occurs when an error does not fall into any category. \n",
    "9. NameError: raised when a variable is not found in the local or global scope. \n",
    "10. MemoryError: raised when programs run out of memory. \n",
    "11. ValueError: occurs when the operation or function receives an argument with the right type but the wrong value. \n",
    "12. ZeroDivisionError: raised when you divide a value or variable with zero. \n",
    "13. SyntaxError: raised by the parser when the Python syntax is wrong. \n",
    "14. IndentationError: occurs when there is a wrong indentation.\n",
    "15. SystemError: raised when the interpreter detects an internal error.\n",
    "\n",
    "Programming errors are mistakes that prevent a program from running because they are made in the code. Exceptions, on the other hand, are unanticipated events that happen while a program is being executed and stop the program’s regular flow."
   ]
  },
  {
   "cell_type": "markdown",
   "id": "1705f88e",
   "metadata": {},
   "source": [
    "# Custom Exception"
   ]
  },
  {
   "cell_type": "code",
   "execution_count": 24,
   "id": "c2fb8b0b",
   "metadata": {},
   "outputs": [],
   "source": [
    "class Error(Exception):\n",
    "    pass\n",
    "class dobException(Error):\n",
    "    pass"
   ]
  },
  {
   "cell_type": "code",
   "execution_count": 51,
   "id": "d1842f48",
   "metadata": {},
   "outputs": [
    {
     "name": "stdout",
     "output_type": "stream",
     "text": [
      "Enter the birth year:1900\n",
      "This year is inavlid\n"
     ]
    }
   ],
   "source": [
    "year = int(input('Enter the birth year:'))\n",
    "age = 2024-year\n",
    "try:\n",
    "    if age <30:\n",
    "        print('Age is {age}'.format(age= age))\n",
    "    else:\n",
    "        raise dobException\n",
    "except:\n",
    "     print('This year is inavlid')"
   ]
  },
  {
   "cell_type": "code",
   "execution_count": 56,
   "id": "44c12fb8",
   "metadata": {},
   "outputs": [],
   "source": [
    "class Exception(Error): # tried a new one\n",
    "    pass\n",
    "class distance_discount(Exception):\n",
    "    pass"
   ]
  },
  {
   "cell_type": "code",
   "execution_count": 61,
   "id": "2d90d3c7",
   "metadata": {},
   "outputs": [
    {
     "name": "stdout",
     "output_type": "stream",
     "text": [
      "Enter your distance from school:15\n",
      "Your buss fee is 300\n",
      "You cant avail the discount at this moment\n"
     ]
    }
   ],
   "source": [
    "dist = int(input('Enter your distance from school:'))\n",
    "bus_fee = dist * 20\n",
    "print('Your buss fee is {}'.format(bus_fee))\n",
    "try:\n",
    "    if bus_fee>750:\n",
    "        print('You are elgible for discount')\n",
    "    else:\n",
    "        raise distance_discount\n",
    "except:\n",
    "    print('You cant avail the discount at this moment')"
   ]
  },
  {
   "cell_type": "markdown",
   "id": "13f4e6c4",
   "metadata": {},
   "source": [
    "# Inheritence"
   ]
  },
  {
   "cell_type": "markdown",
   "id": "213e0409",
   "metadata": {},
   "source": [
    "__init__ is an instance method that initializes a newly created object. It takes the object as its first argument followed by additional arguments. The method takes the object as its first argument (self), followed by any additional arguments that need to be passed to it."
   ]
  },
  {
   "cell_type": "code",
   "execution_count": 103,
   "id": "ed5024c9",
   "metadata": {},
   "outputs": [],
   "source": [
    "class company(): # parent class\n",
    "    def __init__(self,age,category,name): \n",
    "        self.age = age\n",
    "        self.category = category\n",
    "        self.name = name\n",
    "    def emp_count(self):\n",
    "        print('Your company is great')"
   ]
  },
  {
   "cell_type": "code",
   "execution_count": 104,
   "id": "965f7f62",
   "metadata": {},
   "outputs": [],
   "source": [
    "class jio(company): # child class\n",
    "    def __inint__(self,age,category,name,active_status):\n",
    "        super().__inint__(age,category,name) # Attributes of super class getting inherited to child class\n",
    "        self.active_status = active_status\n",
    "    def msg(self):\n",
    "        print('Your execution completetd') # This only belongs to this child class"
   ]
  },
  {
   "cell_type": "code",
   "execution_count": 105,
   "id": "45911d7e",
   "metadata": {},
   "outputs": [],
   "source": [
    "top = jio(10,'broadband','Jio')"
   ]
  },
  {
   "cell_type": "code",
   "execution_count": 106,
   "id": "a251ab8e",
   "metadata": {},
   "outputs": [
    {
     "data": {
      "text/plain": [
       "10"
      ]
     },
     "execution_count": 106,
     "metadata": {},
     "output_type": "execute_result"
    }
   ],
   "source": [
    "top.age"
   ]
  },
  {
   "cell_type": "code",
   "execution_count": 107,
   "id": "1bb4ef22",
   "metadata": {},
   "outputs": [
    {
     "data": {
      "text/plain": [
       "['__class__',\n",
       " '__delattr__',\n",
       " '__dict__',\n",
       " '__dir__',\n",
       " '__doc__',\n",
       " '__eq__',\n",
       " '__format__',\n",
       " '__ge__',\n",
       " '__getattribute__',\n",
       " '__gt__',\n",
       " '__hash__',\n",
       " '__inint__',\n",
       " '__init__',\n",
       " '__init_subclass__',\n",
       " '__le__',\n",
       " '__lt__',\n",
       " '__module__',\n",
       " '__ne__',\n",
       " '__new__',\n",
       " '__reduce__',\n",
       " '__reduce_ex__',\n",
       " '__repr__',\n",
       " '__setattr__',\n",
       " '__sizeof__',\n",
       " '__str__',\n",
       " '__subclasshook__',\n",
       " '__weakref__',\n",
       " 'age',\n",
       " 'category',\n",
       " 'emp_count',\n",
       " 'msg',\n",
       " 'name']"
      ]
     },
     "execution_count": 107,
     "metadata": {},
     "output_type": "execute_result"
    }
   ],
   "source": [
    "dir(top) # You can see the aatributes we have passed"
   ]
  },
  {
   "cell_type": "markdown",
   "id": "0050fb0f",
   "metadata": {},
   "source": [
    "# Magic Methods in Class"
   ]
  },
  {
   "cell_type": "markdown",
   "id": "8eb95a0f",
   "metadata": {},
   "source": [
    "We can over-ride this methods"
   ]
  },
  {
   "cell_type": "code",
   "execution_count": 146,
   "id": "d7b1d9a9",
   "metadata": {},
   "outputs": [],
   "source": [
    "class house():\n",
    "    def __init__(self, window, floor, color): #Constructor , helps you  in initializations with your objects\n",
    "        self.window = window # Attributes\n",
    "        self.floor = floor\n",
    "        self.color = color\n",
    "    def color(self,bi):\n",
    "        return 'This is a {} house.'.format(self.bi)"
   ]
  },
  {
   "cell_type": "code",
   "execution_count": 147,
   "id": "3d50fa78",
   "metadata": {},
   "outputs": [],
   "source": [
    "et = house(5,8,'Suzuki')"
   ]
  },
  {
   "cell_type": "code",
   "execution_count": 148,
   "id": "4e6ab27a",
   "metadata": {},
   "outputs": [
    {
     "data": {
      "text/plain": [
       "32"
      ]
     },
     "execution_count": 148,
     "metadata": {},
     "output_type": "execute_result"
    }
   ],
   "source": [
    "et.__sizeof__()"
   ]
  },
  {
   "cell_type": "code",
   "execution_count": 149,
   "id": "b85f3e9a",
   "metadata": {},
   "outputs": [
    {
     "name": "stdout",
     "output_type": "stream",
     "text": [
      "<__main__.house object at 0x000001585CEC6F88>\n"
     ]
    }
   ],
   "source": [
    "print(et)"
   ]
  },
  {
   "cell_type": "code",
   "execution_count": 158,
   "id": "cc2e7ed0",
   "metadata": {},
   "outputs": [],
   "source": [
    "class house():\n",
    "    def __init__(self, window, floor, color): #Constructor , helps you  in initializations with your objects\n",
    "        self.window = window # Attributes\n",
    "        self.floor = floor\n",
    "        self.color = color\n",
    "    def __sizeof__(self):\n",
    "        return 'The size is huge' # You can't print but always have to return in this case\n",
    "    def __str__(self):\n",
    "        return 'This is __str__ being over-ridden'\n",
    "    def color(self,bi):\n",
    "        return 'This is a {} house.'.format(self.bi)"
   ]
  },
  {
   "cell_type": "code",
   "execution_count": 159,
   "id": "b5b9c985",
   "metadata": {},
   "outputs": [],
   "source": [
    "et = house(5,8,'Suzuki')"
   ]
  },
  {
   "cell_type": "code",
   "execution_count": 160,
   "id": "85461018",
   "metadata": {},
   "outputs": [
    {
     "data": {
      "text/plain": [
       "'The size is huge'"
      ]
     },
     "execution_count": 160,
     "metadata": {},
     "output_type": "execute_result"
    }
   ],
   "source": [
    "et.__sizeof__()"
   ]
  },
  {
   "cell_type": "code",
   "execution_count": 157,
   "id": "e36b5376",
   "metadata": {},
   "outputs": [
    {
     "name": "stdout",
     "output_type": "stream",
     "text": [
      "This is __str__ being over-ridden\n"
     ]
    }
   ],
   "source": [
    "print(et) # they have been over-ridden"
   ]
  },
  {
   "cell_type": "markdown",
   "id": "8d6a6a8b",
   "metadata": {},
   "source": [
    "# Python Assert\n",
    "It is to check if the logical expression is True or not. Program happens only if the expression is true else it return AssertError."
   ]
  },
  {
   "cell_type": "code",
   "execution_count": 164,
   "id": "7d403ec3",
   "metadata": {},
   "outputs": [],
   "source": [
    "r = 12\n",
    "assert r>10"
   ]
  },
  {
   "cell_type": "markdown",
   "id": "2dcbab9c",
   "metadata": {},
   "source": [
    " This got executed succesfully"
   ]
  },
  {
   "cell_type": "code",
   "execution_count": 166,
   "id": "69ac9e78",
   "metadata": {},
   "outputs": [
    {
     "ename": "AssertionError",
     "evalue": "",
     "output_type": "error",
     "traceback": [
      "\u001b[1;31m---------------------------------------------------------------------------\u001b[0m",
      "\u001b[1;31mAssertionError\u001b[0m                            Traceback (most recent call last)",
      "\u001b[1;32m~\\AppData\\Local\\Temp\\ipykernel_14764\\4289626940.py\u001b[0m in \u001b[0;36m<module>\u001b[1;34m\u001b[0m\n\u001b[0;32m      1\u001b[0m \u001b[0mr\u001b[0m \u001b[1;33m=\u001b[0m \u001b[1;36m9\u001b[0m\u001b[1;33m\u001b[0m\u001b[1;33m\u001b[0m\u001b[0m\n\u001b[1;32m----> 2\u001b[1;33m \u001b[1;32massert\u001b[0m \u001b[0mr\u001b[0m\u001b[1;33m>\u001b[0m\u001b[1;36m10\u001b[0m\u001b[1;33m\u001b[0m\u001b[1;33m\u001b[0m\u001b[0m\n\u001b[0m",
      "\u001b[1;31mAssertionError\u001b[0m: "
     ]
    }
   ],
   "source": [
    "r = 9\n",
    "assert r>10"
   ]
  },
  {
   "cell_type": "markdown",
   "id": "480ea078",
   "metadata": {},
   "source": [
    "Now, we get assertion error, this is an amazing tool to deal with Exception handling"
   ]
  },
  {
   "cell_type": "code",
   "execution_count": 170,
   "id": "4572d5ea",
   "metadata": {},
   "outputs": [
    {
     "name": "stdout",
     "output_type": "stream",
     "text": [
      "Enter a number:12\n",
      "The number is even\n"
     ]
    }
   ],
   "source": [
    "try:\n",
    "    r = int(input('Enter a number:'))\n",
    "    assert r%2==0 # don't use if or any loop\n",
    "    print('The number is even')\n",
    "except:\n",
    "    print('Please enter an even number')"
   ]
  },
  {
   "cell_type": "code",
   "execution_count": 171,
   "id": "8b89d3c1",
   "metadata": {},
   "outputs": [
    {
     "name": "stdout",
     "output_type": "stream",
     "text": [
      "Enter a number:7\n",
      "Please enter an even number\n"
     ]
    }
   ],
   "source": [
    "try:\n",
    "    r = int(input('Enter a number:'))\n",
    "    assert r%2==0\n",
    "    print('The number is even')\n",
    "except:\n",
    "    print('Please enter an even number') # Assertion Error triggered and thus we jump to except"
   ]
  },
  {
   "cell_type": "markdown",
   "id": "fb146f31",
   "metadata": {},
   "source": [
    "# Function vs Method"
   ]
  },
  {
   "cell_type": "markdown",
   "id": "bde110a4",
   "metadata": {},
   "source": [
    "A function is a piece of code that is called by name. It can be passed data to operate on (i.e. the parameters) and can optionally return data (the return value). All data that is passed to a function is explicitly passed.\n",
    "\n",
    "A method is a piece of code that is called by a name that is associated with an object. In most respects it is identical to a function except for two key differences:\n",
    "\n",
    "1. A method is implicitly passed the object on which it was called.\n",
    "2. A method is able to operate on data that is contained within the class (remembering that an object is an instance of a class - the class is the definition, the object is an instance of that data).\n",
    "3. You can call a function by it's name but to call a method you need to create an object and then call method"
   ]
  },
  {
   "cell_type": "markdown",
   "id": "b33d0a7d",
   "metadata": {},
   "source": [
    "In layman's term:-\n",
    "Class is like an outer structure (a template) and we use this class to create objects.\n",
    "Ex: A form with Name and Add. field is a class and when you fill it with the actual values, you've created an object.\n",
    "So, object inherits from Class.\n",
    "\n",
    "Function inside a class is Method.\n",
    " A function can be called independently.\n",
    "To call a method , you need to create an object for that class and then it can be called as - class.method()"
   ]
  },
  {
   "cell_type": "code",
   "execution_count": 6,
   "id": "2be79c65",
   "metadata": {},
   "outputs": [
    {
     "name": "stdout",
     "output_type": "stream",
     "text": [
      "5\n",
      "0\n"
     ]
    }
   ],
   "source": [
    "l = [1,2,2,4,5]\n",
    "print(len(l)) # This is function\n",
    "print(l.count(40)) # This is method"
   ]
  },
  {
   "cell_type": "markdown",
   "id": "8497ccb5",
   "metadata": {},
   "source": [
    "# Class Method\n",
    "The idea of a class method is very similar to an instance method, only difference being that instead of passing the instance hiddenly as a first parameter, we're now passing the class itself as a first parameter."
   ]
  },
  {
   "cell_type": "markdown",
   "id": "c14bd303",
   "metadata": {},
   "source": [
    "The class methods are bound to the class, not to the instance. It can modify the class state means it can change class configuration globally. It can access only the class variable. The class methods are used to create the factory methods."
   ]
  },
  {
   "cell_type": "markdown",
   "id": "385c47be",
   "metadata": {},
   "source": [
    "It can't modify the instance state. However, the changes made by the class method reflect all instances of the class."
   ]
  },
  {
   "cell_type": "code",
   "execution_count": 1,
   "id": "a6bae472",
   "metadata": {},
   "outputs": [],
   "source": [
    "class Car: # car is class\n",
    "    base_price = 1000 # class variables\n",
    "    def __init__(self,door,window,color):\n",
    "        self.door = door\n",
    "        self.window = window\n",
    "        self.color = color\n",
    "    def base(self): # base is method, basically any function inside a class\n",
    "        print('The base price is {}'.format(self.base_price))\n",
    "    @classmethod # decorator\n",
    "    def revised_base_price(cls,inflation):\n",
    "        cls.base_price = cls.base_price + cls.base_price * inflation"
   ]
  },
  {
   "cell_type": "code",
   "execution_count": 2,
   "id": "6f241e32",
   "metadata": {
    "scrolled": true
   },
   "outputs": [],
   "source": [
    "Car.revised_base_price(0.2)"
   ]
  },
  {
   "cell_type": "code",
   "execution_count": 4,
   "id": "fc3e45b2",
   "metadata": {},
   "outputs": [
    {
     "data": {
      "text/plain": [
       "1200.0"
      ]
     },
     "execution_count": 4,
     "metadata": {},
     "output_type": "execute_result"
    }
   ],
   "source": [
    "Car.base_price"
   ]
  },
  {
   "cell_type": "markdown",
   "id": "522f08bf",
   "metadata": {},
   "source": [
    "# Static Mathod"
   ]
  },
  {
   "cell_type": "markdown",
   "id": "edca4cf0",
   "metadata": {},
   "source": [
    "This type of method takes neither a self nor a cls parameter (but of course it’s free to accept an arbitrary number of other parameters).\n",
    "\n",
    "Therefore a static method can neither modify object state nor class state. Static methods are restricted in what data they can access - and they’re primarily a way to namespace your methods."
   ]
  },
  {
   "cell_type": "code",
   "execution_count": 7,
   "id": "ced266ca",
   "metadata": {},
   "outputs": [],
   "source": [
    "import datetime\n",
    "now = datetime.datetime.now()"
   ]
  },
  {
   "cell_type": "code",
   "execution_count": 8,
   "id": "80eaf109",
   "metadata": {},
   "outputs": [
    {
     "data": {
      "text/plain": [
       "datetime.datetime(2024, 4, 2, 18, 27, 49, 298137)"
      ]
     },
     "execution_count": 8,
     "metadata": {},
     "output_type": "execute_result"
    }
   ],
   "source": [
    "now"
   ]
  },
  {
   "cell_type": "code",
   "execution_count": 13,
   "id": "4bf97370",
   "metadata": {},
   "outputs": [],
   "source": [
    "class Car: # car is class\n",
    "    base_price = 1000 # class variables\n",
    "    def __init__(self,door,window,color):\n",
    "        self.door = door\n",
    "        self.window = window\n",
    "        self.color = color\n",
    "    def base(self): # base is method, basically any function inside a class\n",
    "        print('The base price is {}'.format(self.base_price))\n",
    "    @classmethod # decorator\n",
    "    def revised_base_price(cls,inflation):\n",
    "        cls.base_price = cls.base_price + cls.base_price * inflation\n",
    "    @staticmethod\n",
    "    def check_year():\n",
    "        if now.year == 2022:\n",
    "            return True\n",
    "        else:\n",
    "            return False"
   ]
  },
  {
   "cell_type": "code",
   "execution_count": 14,
   "id": "10bd20ea",
   "metadata": {},
   "outputs": [
    {
     "data": {
      "text/plain": [
       "False"
      ]
     },
     "execution_count": 14,
     "metadata": {},
     "output_type": "execute_result"
    }
   ],
   "source": [
    "Car.check_year()"
   ]
  },
  {
   "cell_type": "markdown",
   "id": "cea40858",
   "metadata": {},
   "source": [
    "# Multiple Inheritence"
   ]
  },
  {
   "cell_type": "code",
   "execution_count": 15,
   "id": "92288f19",
   "metadata": {},
   "outputs": [],
   "source": [
    "class A:\n",
    "    def method1(self):\n",
    "        print('A class method is printed')"
   ]
  },
  {
   "cell_type": "code",
   "execution_count": 16,
   "id": "ed8de1ba",
   "metadata": {},
   "outputs": [],
   "source": [
    "class B:\n",
    "    def method2(self):\n",
    "        print('B class method is printed')"
   ]
  },
  {
   "cell_type": "code",
   "execution_count": 17,
   "id": "5c4e2920",
   "metadata": {},
   "outputs": [],
   "source": [
    "class D(B,A): #inheriting from both class A and B\n",
    "    def method3(self):\n",
    "        print('D class method is printed')"
   ]
  },
  {
   "cell_type": "code",
   "execution_count": 18,
   "id": "0db99761",
   "metadata": {},
   "outputs": [],
   "source": [
    "d =D()"
   ]
  },
  {
   "cell_type": "code",
   "execution_count": 20,
   "id": "febf1034",
   "metadata": {},
   "outputs": [
    {
     "name": "stdout",
     "output_type": "stream",
     "text": [
      "A class method is printed\n"
     ]
    }
   ],
   "source": [
    "d.method1() # A is called throgh child class D"
   ]
  },
  {
   "cell_type": "code",
   "execution_count": 22,
   "id": "2523838f",
   "metadata": {},
   "outputs": [
    {
     "name": "stdout",
     "output_type": "stream",
     "text": [
      "B class method is printed\n"
     ]
    }
   ],
   "source": [
    "d.method2() #B the aprent class is called here"
   ]
  },
  {
   "cell_type": "code",
   "execution_count": 23,
   "id": "e726efe8",
   "metadata": {},
   "outputs": [
    {
     "name": "stdout",
     "output_type": "stream",
     "text": [
      "D class method is printed\n"
     ]
    }
   ],
   "source": [
    "d.method3() # Calling it's own class"
   ]
  },
  {
   "cell_type": "code",
   "execution_count": 24,
   "id": "e60b05b9",
   "metadata": {},
   "outputs": [],
   "source": [
    "a = A()"
   ]
  },
  {
   "cell_type": "code",
   "execution_count": 25,
   "id": "a9bbbdea",
   "metadata": {},
   "outputs": [
    {
     "ename": "AttributeError",
     "evalue": "'A' object has no attribute 'method2'",
     "output_type": "error",
     "traceback": [
      "\u001b[1;31m---------------------------------------------------------------------------\u001b[0m",
      "\u001b[1;31mAttributeError\u001b[0m                            Traceback (most recent call last)",
      "\u001b[1;32m~\\AppData\\Local\\Temp\\ipykernel_13592\\1420579142.py\u001b[0m in \u001b[0;36m<module>\u001b[1;34m\u001b[0m\n\u001b[1;32m----> 1\u001b[1;33m \u001b[0ma\u001b[0m\u001b[1;33m.\u001b[0m\u001b[0mmethod2\u001b[0m\u001b[1;33m(\u001b[0m\u001b[1;33m)\u001b[0m\u001b[1;33m\u001b[0m\u001b[1;33m\u001b[0m\u001b[0m\n\u001b[0m",
      "\u001b[1;31mAttributeError\u001b[0m: 'A' object has no attribute 'method2'"
     ]
    }
   ],
   "source": [
    "a.method2() # Becuae the parent class can not derive from child class"
   ]
  },
  {
   "cell_type": "markdown",
   "id": "7c3c5d7e",
   "metadata": {},
   "source": [
    "# Public, Protected and Private Method"
   ]
  },
  {
   "cell_type": "code",
   "execution_count": 1,
   "id": "a4946e5a",
   "metadata": {},
   "outputs": [],
   "source": [
    "#Public Mtehod\n",
    "class flower():\n",
    "    def __init__(self,name,color,number):\n",
    "        self.name = name\n",
    "        self.color = color\n",
    "        self.number = number\n",
    "    "
   ]
  },
  {
   "cell_type": "code",
   "execution_count": 2,
   "id": "f18ea6a2",
   "metadata": {},
   "outputs": [],
   "source": [
    "a = flower('rose','red',1)"
   ]
  },
  {
   "cell_type": "code",
   "execution_count": 3,
   "id": "2197a2d9",
   "metadata": {},
   "outputs": [
    {
     "data": {
      "text/plain": [
       "'red'"
      ]
     },
     "execution_count": 3,
     "metadata": {},
     "output_type": "execute_result"
    }
   ],
   "source": [
    "a.color\n"
   ]
  },
  {
   "cell_type": "code",
   "execution_count": 4,
   "id": "72a216f0",
   "metadata": {},
   "outputs": [],
   "source": [
    "a.color = 'pink'# It can be over-ridden in public method"
   ]
  },
  {
   "cell_type": "code",
   "execution_count": 5,
   "id": "34eabf44",
   "metadata": {},
   "outputs": [
    {
     "data": {
      "text/plain": [
       "'pink'"
      ]
     },
     "execution_count": 5,
     "metadata": {},
     "output_type": "execute_result"
    }
   ],
   "source": [
    "a.color "
   ]
  },
  {
   "cell_type": "code",
   "execution_count": 6,
   "id": "9e213d9b",
   "metadata": {},
   "outputs": [
    {
     "data": {
      "text/plain": [
       "['__class__',\n",
       " '__delattr__',\n",
       " '__dict__',\n",
       " '__dir__',\n",
       " '__doc__',\n",
       " '__eq__',\n",
       " '__format__',\n",
       " '__ge__',\n",
       " '__getattribute__',\n",
       " '__gt__',\n",
       " '__hash__',\n",
       " '__init__',\n",
       " '__init_subclass__',\n",
       " '__le__',\n",
       " '__lt__',\n",
       " '__module__',\n",
       " '__ne__',\n",
       " '__new__',\n",
       " '__reduce__',\n",
       " '__reduce_ex__',\n",
       " '__repr__',\n",
       " '__setattr__',\n",
       " '__sizeof__',\n",
       " '__str__',\n",
       " '__subclasshook__',\n",
       " '__weakref__',\n",
       " 'color',\n",
       " 'name',\n",
       " 'number']"
      ]
     },
     "execution_count": 6,
     "metadata": {},
     "output_type": "execute_result"
    }
   ],
   "source": [
    "dir(a)"
   ]
  },
  {
   "cell_type": "code",
   "execution_count": 7,
   "id": "22b5f089",
   "metadata": {},
   "outputs": [],
   "source": [
    "#Protected Method - can be accesed from sub class\n",
    "class flower:\n",
    "    def __init__(self,name,color,number):\n",
    "        self._name = name # one underscore given for protected\n",
    "        self._color = color\n",
    "        self._number = number"
   ]
  },
  {
   "cell_type": "code",
   "execution_count": 8,
   "id": "b5196896",
   "metadata": {},
   "outputs": [],
   "source": [
    "b = flower('lotus','pink',2)"
   ]
  },
  {
   "cell_type": "code",
   "execution_count": 9,
   "id": "50aad35e",
   "metadata": {},
   "outputs": [
    {
     "data": {
      "text/plain": [
       "'lotus'"
      ]
     },
     "execution_count": 9,
     "metadata": {},
     "output_type": "execute_result"
    }
   ],
   "source": [
    "b._name"
   ]
  },
  {
   "cell_type": "code",
   "execution_count": 16,
   "id": "f1026c9f",
   "metadata": {},
   "outputs": [],
   "source": [
    "b._name = 'tulip'"
   ]
  },
  {
   "cell_type": "code",
   "execution_count": 18,
   "id": "60b13177",
   "metadata": {},
   "outputs": [
    {
     "data": {
      "text/plain": [
       "'tulip'"
      ]
     },
     "execution_count": 18,
     "metadata": {},
     "output_type": "execute_result"
    }
   ],
   "source": [
    "b._name"
   ]
  },
  {
   "cell_type": "markdown",
   "id": "0e597658",
   "metadata": {},
   "source": [
    "### In protected method, the instances can be over-ridden only through child class"
   ]
  },
  {
   "cell_type": "code",
   "execution_count": 10,
   "id": "dcc8a2f7",
   "metadata": {},
   "outputs": [],
   "source": [
    "class fruit(flower): # Child Class deriving from flower\n",
    "    def __init__(self,name,color,number,taste):\n",
    "        super().__init__(name,color,number)\n",
    "        self.taste = taste"
   ]
  },
  {
   "cell_type": "code",
   "execution_count": 11,
   "id": "246e55ff",
   "metadata": {},
   "outputs": [],
   "source": [
    "fr = fruit('apple','green',2,'sweet')"
   ]
  },
  {
   "cell_type": "code",
   "execution_count": 12,
   "id": "602d9449",
   "metadata": {},
   "outputs": [
    {
     "data": {
      "text/plain": [
       "'green'"
      ]
     },
     "execution_count": 12,
     "metadata": {},
     "output_type": "execute_result"
    }
   ],
   "source": [
    "fr._color"
   ]
  },
  {
   "cell_type": "code",
   "execution_count": 13,
   "id": "1834fff4",
   "metadata": {},
   "outputs": [],
   "source": [
    "fr._color = 'yellow'"
   ]
  },
  {
   "cell_type": "code",
   "execution_count": 14,
   "id": "5f85f1f8",
   "metadata": {},
   "outputs": [
    {
     "data": {
      "text/plain": [
       "'yellow'"
      ]
     },
     "execution_count": 14,
     "metadata": {},
     "output_type": "execute_result"
    }
   ],
   "source": [
    "fr._color"
   ]
  },
  {
   "cell_type": "code",
   "execution_count": 15,
   "id": "2bc0514e",
   "metadata": {},
   "outputs": [],
   "source": [
    "fr._color = 'black' #"
   ]
  },
  {
   "cell_type": "code",
   "execution_count": 39,
   "id": "9b4d4679",
   "metadata": {},
   "outputs": [
    {
     "data": {
      "text/plain": [
       "'black'"
      ]
     },
     "execution_count": 39,
     "metadata": {},
     "output_type": "execute_result"
    }
   ],
   "source": [
    "fr._color"
   ]
  },
  {
   "cell_type": "code",
   "execution_count": 40,
   "id": "cc4facc6",
   "metadata": {},
   "outputs": [
    {
     "data": {
      "text/plain": [
       "'pink'"
      ]
     },
     "execution_count": 40,
     "metadata": {},
     "output_type": "execute_result"
    }
   ],
   "source": [
    "b._color"
   ]
  },
  {
   "cell_type": "code",
   "execution_count": 19,
   "id": "92e38540",
   "metadata": {},
   "outputs": [],
   "source": [
    "#private Method- can not be accessed from anywhere"
   ]
  },
  {
   "cell_type": "code",
   "execution_count": 20,
   "id": "df9af8da",
   "metadata": {},
   "outputs": [],
   "source": [
    "class flower:\n",
    "    def __init__(self,name,color,number):\n",
    "        self.__name = name # one underscore given for protected\n",
    "        self.__color = color\n",
    "        self.__number = number"
   ]
  },
  {
   "cell_type": "code",
   "execution_count": 21,
   "id": "82f5975a",
   "metadata": {},
   "outputs": [
    {
     "data": {
      "text/plain": [
       "['__class__',\n",
       " '__delattr__',\n",
       " '__dict__',\n",
       " '__dir__',\n",
       " '__doc__',\n",
       " '__eq__',\n",
       " '__format__',\n",
       " '__ge__',\n",
       " '__getattribute__',\n",
       " '__gt__',\n",
       " '__hash__',\n",
       " '__init__',\n",
       " '__init_subclass__',\n",
       " '__le__',\n",
       " '__lt__',\n",
       " '__module__',\n",
       " '__ne__',\n",
       " '__new__',\n",
       " '__reduce__',\n",
       " '__reduce_ex__',\n",
       " '__repr__',\n",
       " '__setattr__',\n",
       " '__sizeof__',\n",
       " '__str__',\n",
       " '__subclasshook__',\n",
       " '__weakref__']"
      ]
     },
     "execution_count": 21,
     "metadata": {},
     "output_type": "execute_result"
    }
   ],
   "source": [
    "dir(flower) # You can not see the paraemters"
   ]
  },
  {
   "cell_type": "code",
   "execution_count": 22,
   "id": "a10c0228",
   "metadata": {},
   "outputs": [],
   "source": [
    "c = flower('gold','yellow',3)"
   ]
  },
  {
   "cell_type": "code",
   "execution_count": 25,
   "id": "e36d3984",
   "metadata": {},
   "outputs": [
    {
     "data": {
      "text/plain": [
       "'gold'"
      ]
     },
     "execution_count": 25,
     "metadata": {},
     "output_type": "execute_result"
    }
   ],
   "source": [
    "c._flower__name"
   ]
  },
  {
   "cell_type": "markdown",
   "id": "447f211d",
   "metadata": {},
   "source": [
    "### Python still has no restrictions though"
   ]
  },
  {
   "cell_type": "markdown",
   "id": "d85f4664",
   "metadata": {},
   "source": [
    "# Can python have multiple constructor?"
   ]
  },
  {
   "cell_type": "code",
   "execution_count": 29,
   "id": "79b4d67d",
   "metadata": {},
   "outputs": [],
   "source": [
    "class animal:\n",
    "    def __init__(self,age):\n",
    "        self.age = age\n",
    "    def __init__(self,age,species):\n",
    "        self.age = age\n",
    "        self.species = species\n",
    "    def __init__(self,age,species,name):\n",
    "        self.age = age\n",
    "        self.species = species"
   ]
  },
  {
   "cell_type": "code",
   "execution_count": 30,
   "id": "2de51ea8",
   "metadata": {},
   "outputs": [
    {
     "ename": "TypeError",
     "evalue": "__init__() missing 2 required positional arguments: 'species' and 'name'",
     "output_type": "error",
     "traceback": [
      "\u001b[1;31m---------------------------------------------------------------------------\u001b[0m",
      "\u001b[1;31mTypeError\u001b[0m                                 Traceback (most recent call last)",
      "\u001b[1;32m~\\AppData\\Local\\Temp\\ipykernel_2440\\4226550216.py\u001b[0m in \u001b[0;36m<module>\u001b[1;34m\u001b[0m\n\u001b[1;32m----> 1\u001b[1;33m \u001b[0mdog\u001b[0m \u001b[1;33m=\u001b[0m \u001b[0manimal\u001b[0m\u001b[1;33m(\u001b[0m\u001b[1;34m'dog'\u001b[0m\u001b[1;33m)\u001b[0m\u001b[1;33m\u001b[0m\u001b[1;33m\u001b[0m\u001b[0m\n\u001b[0m",
      "\u001b[1;31mTypeError\u001b[0m: __init__() missing 2 required positional arguments: 'species' and 'name'"
     ]
    }
   ],
   "source": [
    "dog = animal('dog')"
   ]
  },
  {
   "cell_type": "markdown",
   "id": "4265291d",
   "metadata": {},
   "source": [
    "## After creating multiple constructor, the previous constructors get over - ridden"
   ]
  },
  {
   "cell_type": "markdown",
   "id": "4d2d4fe2",
   "metadata": {},
   "source": [
    "But, there is a hack-"
   ]
  },
  {
   "cell_type": "code",
   "execution_count": 32,
   "id": "194466f0",
   "metadata": {},
   "outputs": [],
   "source": [
    "class animal:\n",
    "    def __init__(self,*args):\n",
    "        if len(args) == 1:\n",
    "            self.age = args[0]\n",
    "        elif len(args) == 2:\n",
    "            self.age = args[0]\n",
    "            self.species = args[1]\n",
    "        elif len(args) == 3:\n",
    "            self.age = args[0]\n",
    "            self.species = args[1]\n",
    "            self.name = args[2]"
   ]
  },
  {
   "cell_type": "code",
   "execution_count": 33,
   "id": "1288f75d",
   "metadata": {},
   "outputs": [],
   "source": [
    "dog = animal('dog')"
   ]
  },
  {
   "cell_type": "code",
   "execution_count": 36,
   "id": "8aa8dd8c",
   "metadata": {},
   "outputs": [
    {
     "data": {
      "text/plain": [
       "'dog'"
      ]
     },
     "execution_count": 36,
     "metadata": {},
     "output_type": "execute_result"
    }
   ],
   "source": [
    "dog.age # now it got executed"
   ]
  },
  {
   "cell_type": "code",
   "execution_count": null,
   "id": "53adf6b3",
   "metadata": {},
   "outputs": [],
   "source": []
  }
 ],
 "metadata": {
  "kernelspec": {
   "display_name": "Python 3 (ipykernel)",
   "language": "python",
   "name": "python3"
  },
  "language_info": {
   "codemirror_mode": {
    "name": "ipython",
    "version": 3
   },
   "file_extension": ".py",
   "mimetype": "text/x-python",
   "name": "python",
   "nbconvert_exporter": "python",
   "pygments_lexer": "ipython3",
   "version": "3.7.7"
  }
 },
 "nbformat": 4,
 "nbformat_minor": 5
}
