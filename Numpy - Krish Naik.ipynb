{
 "cells": [
  {
   "cell_type": "markdown",
   "id": "8707d771",
   "metadata": {},
   "source": [
    "# Numpy \n",
    "It is a general purpose array- processing package. It provides high performance multidimesnional array obejcts and tools for working with these arrays"
   ]
  },
  {
   "cell_type": "markdown",
   "id": "2c8a648d",
   "metadata": {},
   "source": [
    "Main difference in List and Array in Python is that List is not homogenous but Array is"
   ]
  },
  {
   "cell_type": "code",
   "execution_count": 4,
   "id": "525a29ca",
   "metadata": {},
   "outputs": [],
   "source": [
    "import numpy as np"
   ]
  },
  {
   "cell_type": "code",
   "execution_count": 5,
   "id": "fc2dc56c",
   "metadata": {},
   "outputs": [],
   "source": [
    "my_lst = [1,2,3,4]"
   ]
  },
  {
   "cell_type": "code",
   "execution_count": 6,
   "id": "b28a5897",
   "metadata": {},
   "outputs": [
    {
     "data": {
      "text/plain": [
       "list"
      ]
     },
     "execution_count": 6,
     "metadata": {},
     "output_type": "execute_result"
    }
   ],
   "source": [
    "type(my_lst) # It gives a list"
   ]
  },
  {
   "cell_type": "code",
   "execution_count": 7,
   "id": "42bad4d5",
   "metadata": {},
   "outputs": [],
   "source": [
    "arr = np.array(my_lst) # Adding to numpy array"
   ]
  },
  {
   "cell_type": "code",
   "execution_count": 8,
   "id": "3ca06dfb",
   "metadata": {},
   "outputs": [
    {
     "data": {
      "text/plain": [
       "list"
      ]
     },
     "execution_count": 8,
     "metadata": {},
     "output_type": "execute_result"
    }
   ],
   "source": [
    "type(my_lst) # my_lst is still a list"
   ]
  },
  {
   "cell_type": "code",
   "execution_count": 10,
   "id": "cb8a1f72",
   "metadata": {},
   "outputs": [
    {
     "data": {
      "text/plain": [
       "numpy.ndarray"
      ]
     },
     "execution_count": 10,
     "metadata": {},
     "output_type": "execute_result"
    }
   ],
   "source": [
    "type(arr) # but arr is array"
   ]
  },
  {
   "cell_type": "code",
   "execution_count": 13,
   "id": "b36a5b68",
   "metadata": {},
   "outputs": [
    {
     "data": {
      "text/plain": [
       "array([1, 2, 3, 4])"
      ]
     },
     "execution_count": 13,
     "metadata": {},
     "output_type": "execute_result"
    }
   ],
   "source": [
    "arr"
   ]
  },
  {
   "cell_type": "code",
   "execution_count": 14,
   "id": "9aabfca3",
   "metadata": {},
   "outputs": [
    {
     "data": {
      "text/plain": [
       "(4,)"
      ]
     },
     "execution_count": 14,
     "metadata": {},
     "output_type": "execute_result"
    }
   ],
   "source": [
    "arr.shape # how many rows and columns"
   ]
  },
  {
   "cell_type": "code",
   "execution_count": 45,
   "id": "1054571e",
   "metadata": {},
   "outputs": [],
   "source": [
    "list1 = [1,2,3,4,5]\n",
    "list2 = [2,3,4,5,6]\n",
    "list3 = [4,5,6,7,8]"
   ]
  },
  {
   "cell_type": "code",
   "execution_count": 46,
   "id": "fbb7883b",
   "metadata": {},
   "outputs": [],
   "source": [
    "arr1 = np.array([list1,list2,list3])"
   ]
  },
  {
   "cell_type": "code",
   "execution_count": 47,
   "id": "42c7701e",
   "metadata": {},
   "outputs": [
    {
     "data": {
      "text/plain": [
       "array([[1, 2, 3, 4, 5],\n",
       "       [2, 3, 4, 5, 6],\n",
       "       [4, 5, 6, 7, 8]])"
      ]
     },
     "execution_count": 47,
     "metadata": {},
     "output_type": "execute_result"
    }
   ],
   "source": [
    "arr1"
   ]
  },
  {
   "cell_type": "code",
   "execution_count": 48,
   "id": "6625052b",
   "metadata": {},
   "outputs": [
    {
     "data": {
      "text/plain": [
       "array([[1, 2, 3],\n",
       "       [4, 5, 2],\n",
       "       [3, 4, 5],\n",
       "       [6, 4, 5],\n",
       "       [6, 7, 8]])"
      ]
     },
     "execution_count": 48,
     "metadata": {},
     "output_type": "execute_result"
    }
   ],
   "source": [
    "arr1.reshape(5,3)"
   ]
  },
  {
   "cell_type": "markdown",
   "id": "fde03ac7",
   "metadata": {},
   "source": [
    "### Indexing\n"
   ]
  },
  {
   "cell_type": "code",
   "execution_count": 49,
   "id": "47ddf67d",
   "metadata": {},
   "outputs": [],
   "source": [
    "arr = np.array([1,2,3,4,5,6,7])"
   ]
  },
  {
   "cell_type": "code",
   "execution_count": 50,
   "id": "1807df4a",
   "metadata": {},
   "outputs": [
    {
     "data": {
      "text/plain": [
       "6"
      ]
     },
     "execution_count": 50,
     "metadata": {},
     "output_type": "execute_result"
    }
   ],
   "source": [
    "arr[5] # starts from 0"
   ]
  },
  {
   "cell_type": "code",
   "execution_count": 51,
   "id": "30489435",
   "metadata": {},
   "outputs": [
    {
     "data": {
      "text/plain": [
       "array([[1, 2, 3, 4, 5],\n",
       "       [2, 3, 4, 5, 6],\n",
       "       [4, 5, 6, 7, 8]])"
      ]
     },
     "execution_count": 51,
     "metadata": {},
     "output_type": "execute_result"
    }
   ],
   "source": [
    "arr1"
   ]
  },
  {
   "cell_type": "code",
   "execution_count": 52,
   "id": "d0bf6e15",
   "metadata": {},
   "outputs": [
    {
     "data": {
      "text/plain": [
       "array([[4, 5, 6],\n",
       "       [6, 7, 8]])"
      ]
     },
     "execution_count": 52,
     "metadata": {},
     "output_type": "execute_result"
    }
   ],
   "source": [
    "arr1[1:,2:] # 1st parameter - the row number, 2nd - the list's index"
   ]
  },
  {
   "cell_type": "markdown",
   "id": "2af50c66",
   "metadata": {},
   "source": [
    "### Arrange"
   ]
  },
  {
   "cell_type": "code",
   "execution_count": 55,
   "id": "07ee79db",
   "metadata": {},
   "outputs": [],
   "source": [
    "arr2 = np.arange(0,6,2) # start, stop, step"
   ]
  },
  {
   "cell_type": "code",
   "execution_count": 56,
   "id": "db5dc15e",
   "metadata": {},
   "outputs": [
    {
     "data": {
      "text/plain": [
       "array([0, 2, 4])"
      ]
     },
     "execution_count": 56,
     "metadata": {},
     "output_type": "execute_result"
    }
   ],
   "source": [
    "arr2"
   ]
  },
  {
   "cell_type": "markdown",
   "id": "c4ca3a9d",
   "metadata": {},
   "source": [
    "### linspace\n",
    "linspace() is quite similar to the Python arange() function. But a difference in between the two is that linspace() uses a sample number instead of a step."
   ]
  },
  {
   "cell_type": "code",
   "execution_count": 58,
   "id": "1c2474ea",
   "metadata": {},
   "outputs": [
    {
     "data": {
      "text/plain": [
       "array([ 1.        ,  1.18367347,  1.36734694,  1.55102041,  1.73469388,\n",
       "        1.91836735,  2.10204082,  2.28571429,  2.46938776,  2.65306122,\n",
       "        2.83673469,  3.02040816,  3.20408163,  3.3877551 ,  3.57142857,\n",
       "        3.75510204,  3.93877551,  4.12244898,  4.30612245,  4.48979592,\n",
       "        4.67346939,  4.85714286,  5.04081633,  5.2244898 ,  5.40816327,\n",
       "        5.59183673,  5.7755102 ,  5.95918367,  6.14285714,  6.32653061,\n",
       "        6.51020408,  6.69387755,  6.87755102,  7.06122449,  7.24489796,\n",
       "        7.42857143,  7.6122449 ,  7.79591837,  7.97959184,  8.16326531,\n",
       "        8.34693878,  8.53061224,  8.71428571,  8.89795918,  9.08163265,\n",
       "        9.26530612,  9.44897959,  9.63265306,  9.81632653, 10.        ])"
      ]
     },
     "execution_count": 58,
     "metadata": {},
     "output_type": "execute_result"
    }
   ],
   "source": [
    "np.linspace(1,10,50)"
   ]
  },
  {
   "cell_type": "markdown",
   "id": "4b63d23a",
   "metadata": {},
   "source": [
    "### Copy and broadcating\n",
    "Refference type return"
   ]
  },
  {
   "cell_type": "code",
   "execution_count": 59,
   "id": "bbc95471",
   "metadata": {},
   "outputs": [],
   "source": [
    "ab = np.array([1,2,3,4,5,6,7])"
   ]
  },
  {
   "cell_type": "code",
   "execution_count": 60,
   "id": "78ce3947",
   "metadata": {},
   "outputs": [],
   "source": [
    "ab[3:] = 100"
   ]
  },
  {
   "cell_type": "code",
   "execution_count": 61,
   "id": "90817b6c",
   "metadata": {},
   "outputs": [
    {
     "data": {
      "text/plain": [
       "array([  1,   2,   3, 100, 100, 100, 100])"
      ]
     },
     "execution_count": 61,
     "metadata": {},
     "output_type": "execute_result"
    }
   ],
   "source": [
    "ab"
   ]
  },
  {
   "cell_type": "markdown",
   "id": "46483834",
   "metadata": {},
   "source": [
    "## Some other explotory tools"
   ]
  },
  {
   "cell_type": "code",
   "execution_count": 62,
   "id": "2781f43b",
   "metadata": {},
   "outputs": [
    {
     "data": {
      "text/plain": [
       "array([1, 2, 3, 4, 5, 6, 7])"
      ]
     },
     "execution_count": 62,
     "metadata": {},
     "output_type": "execute_result"
    }
   ],
   "source": [
    "arr"
   ]
  },
  {
   "cell_type": "code",
   "execution_count": 63,
   "id": "a7567934",
   "metadata": {},
   "outputs": [
    {
     "data": {
      "text/plain": [
       "array([ True, False, False, False, False, False, False])"
      ]
     },
     "execution_count": 63,
     "metadata": {},
     "output_type": "execute_result"
    }
   ],
   "source": [
    "arr<2"
   ]
  },
  {
   "cell_type": "code",
   "execution_count": 65,
   "id": "22199c8a",
   "metadata": {},
   "outputs": [
    {
     "data": {
      "text/plain": [
       "array([1])"
      ]
     },
     "execution_count": 65,
     "metadata": {},
     "output_type": "execute_result"
    }
   ],
   "source": [
    "arr[arr<2] # This displayes the eleemnt which matches the logic"
   ]
  },
  {
   "cell_type": "code",
   "execution_count": 64,
   "id": "54209209",
   "metadata": {},
   "outputs": [
    {
     "data": {
      "text/plain": [
       "array([ 2,  4,  6,  8, 10, 12, 14])"
      ]
     },
     "execution_count": 64,
     "metadata": {},
     "output_type": "execute_result"
    }
   ],
   "source": [
    "arr*2 # Unlike list, in arrays the number multiplied gets multiplied to all the elemnts numerically"
   ]
  },
  {
   "cell_type": "code",
   "execution_count": 71,
   "id": "73552f36",
   "metadata": {},
   "outputs": [
    {
     "data": {
      "text/plain": [
       "array([[ 0,  1,  2,  3],\n",
       "       [ 4,  5,  6,  7],\n",
       "       [ 8,  9, 10, 11],\n",
       "       [12, 13, 14, 15]])"
      ]
     },
     "execution_count": 71,
     "metadata": {},
     "output_type": "execute_result"
    }
   ],
   "source": [
    "#Create arrays and reshape\n",
    "np.arange(0,16).reshape(4,4)"
   ]
  },
  {
   "cell_type": "code",
   "execution_count": 73,
   "id": "e147d3c0",
   "metadata": {},
   "outputs": [
    {
     "data": {
      "text/plain": [
       "array([1., 1., 1., 1.])"
      ]
     },
     "execution_count": 73,
     "metadata": {},
     "output_type": "execute_result"
    }
   ],
   "source": [
    "# to have an array with 1s and tha paremter says how many 1s and by default its dtype if loat\n",
    "np.ones(4)"
   ]
  },
  {
   "cell_type": "code",
   "execution_count": 75,
   "id": "27882351",
   "metadata": {},
   "outputs": [
    {
     "data": {
      "text/plain": [
       "array([1, 1, 1, 1])"
      ]
     },
     "execution_count": 75,
     "metadata": {},
     "output_type": "execute_result"
    }
   ],
   "source": [
    "np.ones(4, dtype = int) # to chnage the dtype to int"
   ]
  },
  {
   "cell_type": "code",
   "execution_count": 80,
   "id": "71489619",
   "metadata": {},
   "outputs": [
    {
     "data": {
      "text/plain": [
       "array([[0.65810413, 0.71038525, 0.17168676, 0.39635999],\n",
       "       [0.25547961, 0.23173163, 0.34592926, 0.82992409],\n",
       "       [0.66141256, 0.67796358, 0.17800553, 0.1031559 ],\n",
       "       [0.77059549, 0.66574328, 0.72543765, 0.62640949]])"
      ]
     },
     "execution_count": 80,
     "metadata": {},
     "output_type": "execute_result"
    }
   ],
   "source": [
    "#random distrivution\n",
    "np.random.rand(4,4)"
   ]
  },
  {
   "cell_type": "code",
   "execution_count": 82,
   "id": "b3912ace",
   "metadata": {},
   "outputs": [
    {
     "data": {
      "text/plain": [
       "array([[-0.25756669, -0.26163435, -1.46156364,  1.51454901],\n",
       "       [-1.9363565 , -0.27658049, -0.98544049,  1.25133917],\n",
       "       [-0.37793805,  0.18468805, -0.45911332, -0.78208808],\n",
       "       [-0.22023537,  0.20925075, -1.89813031,  1.16210357]])"
      ]
     },
     "execution_count": 82,
     "metadata": {},
     "output_type": "execute_result"
    }
   ],
   "source": [
    "np.random.randn(4,4) # random distribution based on standard deviation"
   ]
  },
  {
   "cell_type": "code",
   "execution_count": 84,
   "id": "b82c39a8",
   "metadata": {},
   "outputs": [
    {
     "data": {
      "text/plain": [
       "array([23, 14, 78, 36, 17, 85, 85, 10])"
      ]
     },
     "execution_count": 84,
     "metadata": {},
     "output_type": "execute_result"
    }
   ],
   "source": [
    "np.random.randint(1,100,8) # Any random integer between 1 to 0 and the size of the array being 8"
   ]
  },
  {
   "cell_type": "code",
   "execution_count": 89,
   "id": "64327688",
   "metadata": {},
   "outputs": [
    {
     "data": {
      "text/plain": [
       "array([[0.50875609, 0.04524322, 0.0286155 , 0.28873566, 0.21441396]])"
      ]
     },
     "execution_count": 89,
     "metadata": {},
     "output_type": "execute_result"
    }
   ],
   "source": [
    "np.random.random_sample((1,5)) #Return random floats in the half-open interval [0.0, 1.0)."
   ]
  },
  {
   "cell_type": "code",
   "execution_count": 90,
   "id": "537e6d94",
   "metadata": {},
   "outputs": [
    {
     "data": {
      "text/plain": [
       "array([[0.75994653, 0.75276089, 0.9779872 , 0.04345269, 0.88323052],\n",
       "       [0.86575444, 0.13815014, 0.9477212 , 0.6652821 , 0.82879035]])"
      ]
     },
     "execution_count": 90,
     "metadata": {},
     "output_type": "execute_result"
    }
   ],
   "source": [
    "np.random.random_sample((2,5)) # first one being the size of array the second parameter is for how many elemnts in the array"
   ]
  },
  {
   "cell_type": "code",
   "execution_count": null,
   "id": "a54474dd",
   "metadata": {},
   "outputs": [],
   "source": []
  }
 ],
 "metadata": {
  "kernelspec": {
   "display_name": "Python 3 (ipykernel)",
   "language": "python",
   "name": "python3"
  },
  "language_info": {
   "codemirror_mode": {
    "name": "ipython",
    "version": 3
   },
   "file_extension": ".py",
   "mimetype": "text/x-python",
   "name": "python",
   "nbconvert_exporter": "python",
   "pygments_lexer": "ipython3",
   "version": "3.7.7"
  }
 },
 "nbformat": 4,
 "nbformat_minor": 5
}
