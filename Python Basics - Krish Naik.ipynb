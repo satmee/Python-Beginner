{
 "cells": [
  {
   "cell_type": "markdown",
   "id": "dca1e52b",
   "metadata": {},
   "source": [
    "# Various Data types in Python"
   ]
  },
  {
   "cell_type": "markdown",
   "id": "c209fe3c",
   "metadata": {},
   "source": [
    "### Numbers"
   ]
  },
  {
   "cell_type": "code",
   "execution_count": 1,
   "id": "fc6adc2c",
   "metadata": {},
   "outputs": [
    {
     "data": {
      "text/plain": [
       "550906"
      ]
     },
     "execution_count": 1,
     "metadata": {},
     "output_type": "execute_result"
    }
   ],
   "source": [
    "5455+545451"
   ]
  },
  {
   "cell_type": "code",
   "execution_count": 2,
   "id": "02f2a241",
   "metadata": {},
   "outputs": [
    {
     "data": {
      "text/plain": [
       "100"
      ]
     },
     "execution_count": 2,
     "metadata": {},
     "output_type": "execute_result"
    }
   ],
   "source": [
    "10**2"
   ]
  },
  {
   "cell_type": "code",
   "execution_count": 3,
   "id": "130062b6",
   "metadata": {},
   "outputs": [
    {
     "data": {
      "text/plain": [
       "'strstrstrstrstrstrstrstrstrstr'"
      ]
     },
     "execution_count": 3,
     "metadata": {},
     "output_type": "execute_result"
    }
   ],
   "source": [
    "10* \"str\""
   ]
  },
  {
   "cell_type": "code",
   "execution_count": 4,
   "id": "275ae405",
   "metadata": {},
   "outputs": [
    {
     "data": {
      "text/plain": [
       "str"
      ]
     },
     "execution_count": 4,
     "metadata": {},
     "output_type": "execute_result"
    }
   ],
   "source": [
    "type(\"stre\")"
   ]
  },
  {
   "cell_type": "code",
   "execution_count": 5,
   "id": "9ba21034",
   "metadata": {},
   "outputs": [
    {
     "ename": "NameError",
     "evalue": "name 'hello' is not defined",
     "output_type": "error",
     "traceback": [
      "\u001b[1;31m---------------------------------------------------------------------------\u001b[0m",
      "\u001b[1;31mNameError\u001b[0m                                 Traceback (most recent call last)",
      "\u001b[1;32m~\\AppData\\Local\\Temp\\ipykernel_15352\\2480618976.py\u001b[0m in \u001b[0;36m<module>\u001b[1;34m\u001b[0m\n\u001b[1;32m----> 1\u001b[1;33m \u001b[0mtype\u001b[0m\u001b[1;33m(\u001b[0m\u001b[0mhello\u001b[0m\u001b[1;33m)\u001b[0m\u001b[1;33m\u001b[0m\u001b[1;33m\u001b[0m\u001b[0m\n\u001b[0m",
      "\u001b[1;31mNameError\u001b[0m: name 'hello' is not defined"
     ]
    }
   ],
   "source": [
    "type(hello)"
   ]
  },
  {
   "cell_type": "code",
   "execution_count": 6,
   "id": "0e4ec7db",
   "metadata": {},
   "outputs": [
    {
     "name": "stdout",
     "output_type": "stream",
     "text": [
      "Hello\n"
     ]
    }
   ],
   "source": [
    "print('Hello') # try pressing shift+tab"
   ]
  },
  {
   "cell_type": "code",
   "execution_count": 8,
   "id": "a7e18637",
   "metadata": {},
   "outputs": [],
   "source": [
    "first_name = 'Sathi'\n",
    "last_name = 'Singhania'"
   ]
  },
  {
   "cell_type": "code",
   "execution_count": 12,
   "id": "c5f8e336",
   "metadata": {},
   "outputs": [
    {
     "name": "stdout",
     "output_type": "stream",
     "text": [
      "My name is Sathi Singhania\n"
     ]
    }
   ],
   "source": [
    "print('My name is {} {}'.format(first_name,last_name)) #Order in format is very important"
   ]
  },
  {
   "cell_type": "code",
   "execution_count": 13,
   "id": "7b711ab9",
   "metadata": {},
   "outputs": [
    {
     "name": "stdout",
     "output_type": "stream",
     "text": [
      "My name is Sathi Singhania\n"
     ]
    }
   ],
   "source": [
    "print('My name is {first} {last}'.format(last = last_name, first=first_name,)) #This way order will not be an issue"
   ]
  },
  {
   "cell_type": "markdown",
   "id": "635b20ba",
   "metadata": {},
   "source": [
    "# Boolean Values\n",
    "### Used for True or False value"
   ]
  },
  {
   "cell_type": "code",
   "execution_count": 17,
   "id": "e98c6bb6",
   "metadata": {},
   "outputs": [
    {
     "data": {
      "text/plain": [
       "bool"
      ]
     },
     "execution_count": 17,
     "metadata": {},
     "output_type": "execute_result"
    }
   ],
   "source": [
    "type(True) # True and Flase is case sensitive, don't write like true or false"
   ]
  },
  {
   "cell_type": "code",
   "execution_count": 18,
   "id": "05f3e912",
   "metadata": {},
   "outputs": [],
   "source": [
    "my_name = 'Sathi Singhania'"
   ]
  },
  {
   "cell_type": "code",
   "execution_count": 19,
   "id": "6e3d6ceb",
   "metadata": {},
   "outputs": [
    {
     "name": "stdout",
     "output_type": "stream",
     "text": [
      "False\n",
      "False\n",
      "False\n",
      "True\n",
      "False\n",
      "False\n",
      "False\n",
      "False\n",
      "True\n"
     ]
    }
   ],
   "source": [
    "print(my_name.isalnum()) # check if all characters are numbers\n",
    "print(my_name.isalpha()) # check if all charcaters in strings are alphabets\n",
    "print(my_name.isdigit()) # check if it contains any digit\n",
    "print(my_name.istitle()) # check if string contains any title words\n",
    "print(my_name.isupper()) # check if string contains any upper case letter\n",
    "print(my_name.islower()) # check if string contains any lower case letter\n",
    "print(my_name.isspace()) # check if string contains any space\n",
    "print(my_name.endswith('S')) # check if string ends with that specific letter also they are case sensitive\n",
    "print(my_name.startswith('S')) # check if string starts with that specific letter"
   ]
  },
  {
   "cell_type": "markdown",
   "id": "267e5404",
   "metadata": {},
   "source": [
    "# List\n",
    " A list is a data structure in Python that is a mutable, or changeable, ordered sequence of elements. Each element or value that is inside of a list is called an item. Just as strings are defined as characters between quotes, lists are defined by having values between square brackets [ ] ."
   ]
  },
  {
   "cell_type": "code",
   "execution_count": 20,
   "id": "cc2686f3",
   "metadata": {},
   "outputs": [],
   "source": [
    "lst1 = [] # Can be cretwd with brackets"
   ]
  },
  {
   "cell_type": "code",
   "execution_count": 21,
   "id": "5f9ffdc5",
   "metadata": {},
   "outputs": [
    {
     "data": {
      "text/plain": [
       "list"
      ]
     },
     "execution_count": 21,
     "metadata": {},
     "output_type": "execute_result"
    }
   ],
   "source": [
    "type(lst1)"
   ]
  },
  {
   "cell_type": "code",
   "execution_count": 22,
   "id": "bd739994",
   "metadata": {},
   "outputs": [],
   "source": [
    "lst2 = list() # Also has inbuilt function "
   ]
  },
  {
   "cell_type": "code",
   "execution_count": 23,
   "id": "fb1da646",
   "metadata": {},
   "outputs": [
    {
     "data": {
      "text/plain": [
       "list"
      ]
     },
     "execution_count": 23,
     "metadata": {},
     "output_type": "execute_result"
    }
   ],
   "source": [
    "type(lst2)"
   ]
  },
  {
   "cell_type": "code",
   "execution_count": 24,
   "id": "a0831819",
   "metadata": {},
   "outputs": [],
   "source": [
    "lst1 = ['Sathi', 'B', 'Singhania',1,5,4]"
   ]
  },
  {
   "cell_type": "code",
   "execution_count": 25,
   "id": "597ad2a4",
   "metadata": {},
   "outputs": [
    {
     "data": {
      "text/plain": [
       "6"
      ]
     },
     "execution_count": 25,
     "metadata": {},
     "output_type": "execute_result"
    }
   ],
   "source": [
    "len(lst1)"
   ]
  },
  {
   "cell_type": "markdown",
   "id": "c102ebf3",
   "metadata": {},
   "source": [
    "## Append"
   ]
  },
  {
   "cell_type": "code",
   "execution_count": 27,
   "id": "21d60753",
   "metadata": {},
   "outputs": [],
   "source": [
    "lst1.append('Surya')"
   ]
  },
  {
   "cell_type": "code",
   "execution_count": 28,
   "id": "f9030430",
   "metadata": {},
   "outputs": [
    {
     "name": "stdout",
     "output_type": "stream",
     "text": [
      "['Sathi', 'B', 'Singhania', 1, 5, 4, 'Surya']\n"
     ]
    }
   ],
   "source": [
    "print(lst1)"
   ]
  },
  {
   "cell_type": "code",
   "execution_count": 29,
   "id": "d93cf5d3",
   "metadata": {},
   "outputs": [
    {
     "data": {
      "text/plain": [
       "5"
      ]
     },
     "execution_count": 29,
     "metadata": {},
     "output_type": "execute_result"
    }
   ],
   "source": [
    "lst1[4] # Starts from 0"
   ]
  },
  {
   "cell_type": "code",
   "execution_count": 30,
   "id": "07dad5c7",
   "metadata": {},
   "outputs": [
    {
     "data": {
      "text/plain": [
       "['B', 'Singhania', 1, 5, 4, 'Surya']"
      ]
     },
     "execution_count": 30,
     "metadata": {},
     "output_type": "execute_result"
    }
   ],
   "source": [
    "lst1[1:]"
   ]
  },
  {
   "cell_type": "code",
   "execution_count": 31,
   "id": "3fe053a1",
   "metadata": {},
   "outputs": [
    {
     "ename": "TypeError",
     "evalue": "append() takes exactly one argument (2 given)",
     "output_type": "error",
     "traceback": [
      "\u001b[1;31m---------------------------------------------------------------------------\u001b[0m",
      "\u001b[1;31mTypeError\u001b[0m                                 Traceback (most recent call last)",
      "\u001b[1;32m~\\AppData\\Local\\Temp\\ipykernel_15352\\162033647.py\u001b[0m in \u001b[0;36m<module>\u001b[1;34m\u001b[0m\n\u001b[1;32m----> 1\u001b[1;33m \u001b[0mlst1\u001b[0m\u001b[1;33m.\u001b[0m\u001b[0mappend\u001b[0m\u001b[1;33m(\u001b[0m\u001b[1;34m'G'\u001b[0m\u001b[1;33m,\u001b[0m\u001b[1;36m5\u001b[0m\u001b[1;33m)\u001b[0m\u001b[1;33m\u001b[0m\u001b[1;33m\u001b[0m\u001b[0m\n\u001b[0m",
      "\u001b[1;31mTypeError\u001b[0m: append() takes exactly one argument (2 given)"
     ]
    }
   ],
   "source": [
    "lst1.append('G',5) #Append takes exactly one arguement"
   ]
  },
  {
   "cell_type": "code",
   "execution_count": 35,
   "id": "2deed5b5",
   "metadata": {},
   "outputs": [],
   "source": [
    "lst1.append(['G',5])"
   ]
  },
  {
   "cell_type": "code",
   "execution_count": 36,
   "id": "6b5c036d",
   "metadata": {},
   "outputs": [
    {
     "data": {
      "text/plain": [
       "['Sathi', 'B', 'Singhania', 1, 5, 4, 'Surya', ['G', 5], ['G', 5], ['G', 5]]"
      ]
     },
     "execution_count": 36,
     "metadata": {},
     "output_type": "execute_result"
    }
   ],
   "source": [
    "lst1 # It gets nested and another thing about append is that it by default gets added at the end"
   ]
  },
  {
   "cell_type": "markdown",
   "id": "bbb810d6",
   "metadata": {},
   "source": [
    "## Insert\n"
   ]
  },
  {
   "cell_type": "code",
   "execution_count": 37,
   "id": "23ba6e01",
   "metadata": {},
   "outputs": [],
   "source": [
    "lst2 = [1,3,8,9,5,'Sathi']"
   ]
  },
  {
   "cell_type": "code",
   "execution_count": 38,
   "id": "9c124d2f",
   "metadata": {},
   "outputs": [],
   "source": [
    "lst2.insert(2,\"Surya\")"
   ]
  },
  {
   "cell_type": "code",
   "execution_count": 40,
   "id": "01632d09",
   "metadata": {},
   "outputs": [
    {
     "data": {
      "text/plain": [
       "[1, 3, 'Surya', 8, 9, 5, 'Sathi']"
      ]
     },
     "execution_count": 40,
     "metadata": {},
     "output_type": "execute_result"
    }
   ],
   "source": [
    "lst2 # This is the key difference that we can insert it in any position that we want"
   ]
  },
  {
   "cell_type": "markdown",
   "id": "dc5c91a6",
   "metadata": {},
   "source": [
    "## Extend Method"
   ]
  },
  {
   "cell_type": "code",
   "execution_count": 41,
   "id": "cf77812a",
   "metadata": {},
   "outputs": [],
   "source": [
    "n1 = [1,2,3,4,5]"
   ]
  },
  {
   "cell_type": "code",
   "execution_count": 43,
   "id": "17bc15ac",
   "metadata": {},
   "outputs": [],
   "source": [
    "n1.extend([6,7])"
   ]
  },
  {
   "cell_type": "code",
   "execution_count": 45,
   "id": "d3ccb597",
   "metadata": {},
   "outputs": [
    {
     "data": {
      "text/plain": [
       "[1, 2, 3, 4, 5, 6, 7]"
      ]
     },
     "execution_count": 45,
     "metadata": {},
     "output_type": "execute_result"
    }
   ],
   "source": [
    "n1 # Unlike append, instead of creating nested list, it gets added into the actual list"
   ]
  },
  {
   "cell_type": "markdown",
   "id": "28bf7ee2",
   "metadata": {},
   "source": [
    "## Sum"
   ]
  },
  {
   "cell_type": "code",
   "execution_count": 47,
   "id": "8d51582d",
   "metadata": {},
   "outputs": [
    {
     "data": {
      "text/plain": [
       "28"
      ]
     },
     "execution_count": 47,
     "metadata": {},
     "output_type": "execute_result"
    }
   ],
   "source": [
    "sum(n1) # adds values of all eleemnts inside the list"
   ]
  },
  {
   "cell_type": "code",
   "execution_count": 54,
   "id": "45a06c8f",
   "metadata": {},
   "outputs": [],
   "source": [
    "name = ['Sathi', 'Singhania',24]"
   ]
  },
  {
   "cell_type": "code",
   "execution_count": 56,
   "id": "1edc9103",
   "metadata": {},
   "outputs": [
    {
     "ename": "TypeError",
     "evalue": "unsupported operand type(s) for +: 'int' and 'str'",
     "output_type": "error",
     "traceback": [
      "\u001b[1;31m---------------------------------------------------------------------------\u001b[0m",
      "\u001b[1;31mTypeError\u001b[0m                                 Traceback (most recent call last)",
      "\u001b[1;32m~\\AppData\\Local\\Temp\\ipykernel_15352\\2321900202.py\u001b[0m in \u001b[0;36m<module>\u001b[1;34m\u001b[0m\n\u001b[1;32m----> 1\u001b[1;33m \u001b[0msum\u001b[0m\u001b[1;33m(\u001b[0m\u001b[0mname\u001b[0m\u001b[1;33m)\u001b[0m \u001b[1;31m# No string + integer\u001b[0m\u001b[1;33m\u001b[0m\u001b[1;33m\u001b[0m\u001b[0m\n\u001b[0m",
      "\u001b[1;31mTypeError\u001b[0m: unsupported operand type(s) for +: 'int' and 'str'"
     ]
    }
   ],
   "source": [
    "sum(name) # No string + integer"
   ]
  },
  {
   "cell_type": "markdown",
   "id": "c216ee38",
   "metadata": {},
   "source": [
    "## Pop()"
   ]
  },
  {
   "cell_type": "code",
   "execution_count": 57,
   "id": "3cb141d4",
   "metadata": {},
   "outputs": [
    {
     "data": {
      "text/plain": [
       "7"
      ]
     },
     "execution_count": 57,
     "metadata": {},
     "output_type": "execute_result"
    }
   ],
   "source": [
    "n1.pop() # By default pops the last element"
   ]
  },
  {
   "cell_type": "code",
   "execution_count": 58,
   "id": "2698da4f",
   "metadata": {},
   "outputs": [
    {
     "data": {
      "text/plain": [
       "[1, 2, 3, 4, 5, 6]"
      ]
     },
     "execution_count": 58,
     "metadata": {},
     "output_type": "execute_result"
    }
   ],
   "source": [
    "n1"
   ]
  },
  {
   "cell_type": "code",
   "execution_count": 61,
   "id": "63a4130c",
   "metadata": {},
   "outputs": [
    {
     "data": {
      "text/plain": [
       "4"
      ]
     },
     "execution_count": 61,
     "metadata": {},
     "output_type": "execute_result"
    }
   ],
   "source": [
    "n1.pop(2) # For popping other index elements"
   ]
  },
  {
   "cell_type": "code",
   "execution_count": 62,
   "id": "4439834f",
   "metadata": {},
   "outputs": [
    {
     "data": {
      "text/plain": [
       "[1, 2, 5, 6]"
      ]
     },
     "execution_count": 62,
     "metadata": {},
     "output_type": "execute_result"
    }
   ],
   "source": [
    "n1"
   ]
  },
  {
   "cell_type": "markdown",
   "id": "05ecc326",
   "metadata": {},
   "source": [
    "## Count"
   ]
  },
  {
   "cell_type": "code",
   "execution_count": 63,
   "id": "86e3c625",
   "metadata": {},
   "outputs": [],
   "source": [
    "a1 = [1,5,4,9,3,4,1,5]"
   ]
  },
  {
   "cell_type": "code",
   "execution_count": 65,
   "id": "759f69e5",
   "metadata": {},
   "outputs": [
    {
     "ename": "TypeError",
     "evalue": "count() takes exactly one argument (0 given)",
     "output_type": "error",
     "traceback": [
      "\u001b[1;31m---------------------------------------------------------------------------\u001b[0m",
      "\u001b[1;31mTypeError\u001b[0m                                 Traceback (most recent call last)",
      "\u001b[1;32m~\\AppData\\Local\\Temp\\ipykernel_15352\\1873661798.py\u001b[0m in \u001b[0;36m<module>\u001b[1;34m\u001b[0m\n\u001b[1;32m----> 1\u001b[1;33m \u001b[0ma1\u001b[0m\u001b[1;33m.\u001b[0m\u001b[0mcount\u001b[0m\u001b[1;33m(\u001b[0m\u001b[1;33m)\u001b[0m \u001b[1;31m# counts the number of elememts for you but you have to specify that which number of string\u001b[0m\u001b[1;33m\u001b[0m\u001b[1;33m\u001b[0m\u001b[0m\n\u001b[0m",
      "\u001b[1;31mTypeError\u001b[0m: count() takes exactly one argument (0 given)"
     ]
    }
   ],
   "source": [
    "a1.count() # counts the number of elememts for you but you have to specify that which number of string"
   ]
  },
  {
   "cell_type": "code",
   "execution_count": 67,
   "id": "6edfa668",
   "metadata": {},
   "outputs": [
    {
     "data": {
      "text/plain": [
       "2"
      ]
     },
     "execution_count": 67,
     "metadata": {},
     "output_type": "execute_result"
    }
   ],
   "source": [
    "a1.count(1) # 1 is present 2 times"
   ]
  },
  {
   "cell_type": "markdown",
   "id": "32a15b7c",
   "metadata": {},
   "source": [
    "## Index"
   ]
  },
  {
   "cell_type": "code",
   "execution_count": 69,
   "id": "970c3f40",
   "metadata": {},
   "outputs": [
    {
     "data": {
      "text/plain": [
       "0"
      ]
     },
     "execution_count": 69,
     "metadata": {},
     "output_type": "execute_result"
    }
   ],
   "source": [
    "a1.index(1) # It by default returns where the element is found first, means which index"
   ]
  },
  {
   "cell_type": "code",
   "execution_count": 75,
   "id": "bba8c631",
   "metadata": {},
   "outputs": [
    {
     "data": {
      "text/plain": [
       "6"
      ]
     },
     "execution_count": 75,
     "metadata": {},
     "output_type": "execute_result"
    }
   ],
   "source": [
    "a1.index(1,1,7) # 1st paramete - the elemnt you want to find, 2nd - starting position, 3rd - end"
   ]
  },
  {
   "cell_type": "markdown",
   "id": "c62444ea",
   "metadata": {},
   "source": [
    "### List gets multiplied this way"
   ]
  },
  {
   "cell_type": "code",
   "execution_count": 77,
   "id": "af2d485e",
   "metadata": {},
   "outputs": [
    {
     "data": {
      "text/plain": [
       "[1, 5, 4, 9, 3, 4, 1, 5, 1, 5, 4, 9, 3, 4, 1, 5]"
      ]
     },
     "execution_count": 77,
     "metadata": {},
     "output_type": "execute_result"
    }
   ],
   "source": [
    "a1*2"
   ]
  },
  {
   "cell_type": "markdown",
   "id": "968c657f",
   "metadata": {},
   "source": [
    "# Sets\n",
    "Set is a unorder collection data type in python that is iterable, mutable and no duplicate elements. It represnets the mathematical notion of set. It's based on a data structure known as hash table. Set use curly brcaes."
   ]
  },
  {
   "cell_type": "code",
   "execution_count": 13,
   "id": "3818a947",
   "metadata": {},
   "outputs": [
    {
     "name": "stdout",
     "output_type": "stream",
     "text": [
      "set()\n",
      "<class 'set'>\n"
     ]
    }
   ],
   "source": [
    "sets = set # Don't use brackets\n",
    "print(set)\n",
    "print(type(set))"
   ]
  },
  {
   "cell_type": "code",
   "execution_count": 14,
   "id": "fe726ace",
   "metadata": {},
   "outputs": [],
   "source": [
    "sets = {1,2,3,4,3}"
   ]
  },
  {
   "cell_type": "code",
   "execution_count": 15,
   "id": "38709139",
   "metadata": {},
   "outputs": [
    {
     "data": {
      "text/plain": [
       "{1, 2, 3, 4}"
      ]
     },
     "execution_count": 15,
     "metadata": {},
     "output_type": "execute_result"
    }
   ],
   "source": [
    "sets # It does not print teh duplicate values"
   ]
  },
  {
   "cell_type": "code",
   "execution_count": 17,
   "id": "85ce4bfb",
   "metadata": {},
   "outputs": [
    {
     "ename": "TypeError",
     "evalue": "'set' object is not subscriptable",
     "output_type": "error",
     "traceback": [
      "\u001b[1;31m---------------------------------------------------------------------------\u001b[0m",
      "\u001b[1;31mTypeError\u001b[0m                                 Traceback (most recent call last)",
      "\u001b[1;32m~\\AppData\\Local\\Temp\\ipykernel_10820\\52582600.py\u001b[0m in \u001b[0;36m<module>\u001b[1;34m\u001b[0m\n\u001b[1;32m----> 1\u001b[1;33m \u001b[0msets\u001b[0m\u001b[1;33m[\u001b[0m\u001b[1;36m0\u001b[0m\u001b[1;33m]\u001b[0m\u001b[1;33m\u001b[0m\u001b[1;33m\u001b[0m\u001b[0m\n\u001b[0m",
      "\u001b[1;31mTypeError\u001b[0m: 'set' object is not subscriptable"
     ]
    }
   ],
   "source": [
    "sets[0]"
   ]
  },
  {
   "cell_type": "code",
   "execution_count": 19,
   "id": "95a6fc63",
   "metadata": {},
   "outputs": [
    {
     "ename": "TypeError",
     "evalue": "'set' object is not subscriptable",
     "output_type": "error",
     "traceback": [
      "\u001b[1;31m---------------------------------------------------------------------------\u001b[0m",
      "\u001b[1;31mTypeError\u001b[0m                                 Traceback (most recent call last)",
      "\u001b[1;32m~\\AppData\\Local\\Temp\\ipykernel_10820\\837305187.py\u001b[0m in \u001b[0;36m<module>\u001b[1;34m\u001b[0m\n\u001b[1;32m----> 1\u001b[1;33m \u001b[0msets\u001b[0m\u001b[1;33m[\u001b[0m\u001b[1;34m'1'\u001b[0m\u001b[1;33m]\u001b[0m \u001b[1;31m# Sets do not support indexing in anyway\u001b[0m\u001b[1;33m\u001b[0m\u001b[1;33m\u001b[0m\u001b[0m\n\u001b[0m",
      "\u001b[1;31mTypeError\u001b[0m: 'set' object is not subscriptable"
     ]
    }
   ],
   "source": [
    "sets['1'] # Sets do not support indexing in anyway"
   ]
  },
  {
   "cell_type": "markdown",
   "id": "78f40122",
   "metadata": {},
   "source": [
    "### Add"
   ]
  },
  {
   "cell_type": "code",
   "execution_count": 20,
   "id": "c3ce75b1",
   "metadata": {},
   "outputs": [],
   "source": [
    "sets.add(\"Sathi\")"
   ]
  },
  {
   "cell_type": "code",
   "execution_count": 21,
   "id": "cd12d0e6",
   "metadata": {},
   "outputs": [
    {
     "data": {
      "text/plain": [
       "{1, 2, 3, 4, 'Sathi'}"
      ]
     },
     "execution_count": 21,
     "metadata": {},
     "output_type": "execute_result"
    }
   ],
   "source": [
    "sets"
   ]
  },
  {
   "cell_type": "markdown",
   "id": "3e4bd2fa",
   "metadata": {},
   "source": [
    "### Some other Set functions as per Mathematics"
   ]
  },
  {
   "cell_type": "code",
   "execution_count": 24,
   "id": "e8abcdcf",
   "metadata": {},
   "outputs": [],
   "source": [
    "set1 = {1,2,3,4,5,6,7}\n",
    "set2 = {6,7,8,9,10,11,12}"
   ]
  },
  {
   "cell_type": "code",
   "execution_count": 26,
   "id": "53d2ecec",
   "metadata": {},
   "outputs": [
    {
     "data": {
      "text/plain": [
       "{8, 9, 10, 11, 12}"
      ]
     },
     "execution_count": 26,
     "metadata": {},
     "output_type": "execute_result"
    }
   ],
   "source": [
    "set2.difference(set1) # elemnets uniquee to set 2"
   ]
  },
  {
   "cell_type": "code",
   "execution_count": 27,
   "id": "67476948",
   "metadata": {},
   "outputs": [],
   "source": [
    "set2.difference_update(set1)"
   ]
  },
  {
   "cell_type": "code",
   "execution_count": 29,
   "id": "aa787890",
   "metadata": {},
   "outputs": [
    {
     "data": {
      "text/plain": [
       "{1, 2, 3, 4, 5, 6, 7}"
      ]
     },
     "execution_count": 29,
     "metadata": {},
     "output_type": "execute_result"
    }
   ],
   "source": [
    "set1"
   ]
  },
  {
   "cell_type": "code",
   "execution_count": 32,
   "id": "0dd0b43d",
   "metadata": {},
   "outputs": [
    {
     "data": {
      "text/plain": [
       "{8, 9, 10, 11, 12}"
      ]
     },
     "execution_count": 32,
     "metadata": {},
     "output_type": "execute_result"
    }
   ],
   "source": [
    "set2 # this updates and affcets the value in the set which doesn;t happen in simple difference"
   ]
  },
  {
   "cell_type": "code",
   "execution_count": 33,
   "id": "b73dc826",
   "metadata": {},
   "outputs": [
    {
     "data": {
      "text/plain": [
       "{1, 2, 3, 4, 5, 6, 7, 8, 9, 10, 11, 12}"
      ]
     },
     "execution_count": 33,
     "metadata": {},
     "output_type": "execute_result"
    }
   ],
   "source": [
    "set2.union(set1) # union of all elements"
   ]
  },
  {
   "cell_type": "code",
   "execution_count": 40,
   "id": "3a889e3d",
   "metadata": {},
   "outputs": [],
   "source": [
    "set2.discard(8) # Discarded the elemnt which I passed in arguement "
   ]
  },
  {
   "cell_type": "code",
   "execution_count": 41,
   "id": "f9a2bb27",
   "metadata": {},
   "outputs": [
    {
     "data": {
      "text/plain": [
       "{9, 10, 11, 12}"
      ]
     },
     "execution_count": 41,
     "metadata": {},
     "output_type": "execute_result"
    }
   ],
   "source": [
    "set2"
   ]
  },
  {
   "cell_type": "markdown",
   "id": "7f8595dc",
   "metadata": {},
   "source": [
    "# Dictionary\n",
    "It is a collection which is unordered,changeable and indexed. They are written with curly braces and have keys and values."
   ]
  },
  {
   "cell_type": "code",
   "execution_count": 42,
   "id": "18ae0f13",
   "metadata": {},
   "outputs": [],
   "source": [
    "dic = {} "
   ]
  },
  {
   "cell_type": "code",
   "execution_count": 43,
   "id": "c1a394df",
   "metadata": {},
   "outputs": [
    {
     "data": {
      "text/plain": [
       "dict"
      ]
     },
     "execution_count": 43,
     "metadata": {},
     "output_type": "execute_result"
    }
   ],
   "source": [
    "type(dic)"
   ]
  },
  {
   "cell_type": "code",
   "execution_count": 49,
   "id": "87c5948d",
   "metadata": {},
   "outputs": [],
   "source": [
    "dic = {'Name1': 'Sathi', 'Name2':'Surya'} # if you don't define the values with key, it becomes a set"
   ]
  },
  {
   "cell_type": "code",
   "execution_count": 50,
   "id": "c4351378",
   "metadata": {},
   "outputs": [
    {
     "data": {
      "text/plain": [
       "{'Name1': 'Sathi', 'Name2': 'Surya'}"
      ]
     },
     "execution_count": 50,
     "metadata": {},
     "output_type": "execute_result"
    }
   ],
   "source": [
    "dic"
   ]
  },
  {
   "cell_type": "code",
   "execution_count": 54,
   "id": "20796fc1",
   "metadata": {},
   "outputs": [
    {
     "data": {
      "text/plain": [
       "'Sathi'"
      ]
     },
     "execution_count": 54,
     "metadata": {},
     "output_type": "execute_result"
    }
   ],
   "source": [
    "dic['Name1'] # Indexing is done by the key value"
   ]
  },
  {
   "cell_type": "code",
   "execution_count": 56,
   "id": "a2147946",
   "metadata": {},
   "outputs": [
    {
     "name": "stdout",
     "output_type": "stream",
     "text": [
      "Name1\n",
      "Name2\n"
     ]
    }
   ],
   "source": [
    "for x in dic: # for retrieving indexes\n",
    "    print(x)"
   ]
  },
  {
   "cell_type": "code",
   "execution_count": 60,
   "id": "cb3ced24",
   "metadata": {},
   "outputs": [
    {
     "name": "stdout",
     "output_type": "stream",
     "text": [
      "Sathi\n",
      "Surya\n"
     ]
    }
   ],
   "source": [
    "for x in dic.values(): # For retrieving key values\n",
    "    print(x)"
   ]
  },
  {
   "cell_type": "code",
   "execution_count": 62,
   "id": "b4a45143",
   "metadata": {},
   "outputs": [
    {
     "name": "stdout",
     "output_type": "stream",
     "text": [
      "('Name1', 'Sathi')\n",
      "('Name2', 'Surya')\n"
     ]
    }
   ],
   "source": [
    "for x in dic.items(): # Items for printing both key and it's values\n",
    "    print(x)"
   ]
  },
  {
   "cell_type": "code",
   "execution_count": 65,
   "id": "b9d94ec1",
   "metadata": {},
   "outputs": [],
   "source": [
    "dic['Name3'] = 'Sunita' # Adding a new value"
   ]
  },
  {
   "cell_type": "code",
   "execution_count": 64,
   "id": "e1c529bf",
   "metadata": {},
   "outputs": [
    {
     "data": {
      "text/plain": [
       "{'Name1': 'Sathi', 'Name2': 'Surya', 'Name3': 'Sunita'}"
      ]
     },
     "execution_count": 64,
     "metadata": {},
     "output_type": "execute_result"
    }
   ],
   "source": [
    "dic"
   ]
  },
  {
   "cell_type": "code",
   "execution_count": 75,
   "id": "28d042ea",
   "metadata": {},
   "outputs": [],
   "source": [
    "dic['Name1'] =\"SATHI\" # It gets replaced, not possible in Sets"
   ]
  },
  {
   "cell_type": "code",
   "execution_count": 67,
   "id": "912e2cc5",
   "metadata": {},
   "outputs": [
    {
     "data": {
      "text/plain": [
       "{'Name1': 'SATHI', 'Name2': 'Surya', 'Name3': 'Sunita'}"
      ]
     },
     "execution_count": 67,
     "metadata": {},
     "output_type": "execute_result"
    }
   ],
   "source": [
    "dic"
   ]
  },
  {
   "cell_type": "markdown",
   "id": "e9d96cb9",
   "metadata": {},
   "source": [
    "### Nested Dictionary"
   ]
  },
  {
   "cell_type": "code",
   "execution_count": 76,
   "id": "05b00082",
   "metadata": {},
   "outputs": [],
   "source": [
    "car1_info = {'Suzuki':1960}\n",
    "car2_info = {'Toyota':1970}\n",
    "car3_info = {'Nano':2010}"
   ]
  },
  {
   "cell_type": "code",
   "execution_count": 77,
   "id": "aa960f6a",
   "metadata": {},
   "outputs": [],
   "source": [
    "cars = {'car1': car1_info,'car2': car2_info,'car3': car3_info}"
   ]
  },
  {
   "cell_type": "code",
   "execution_count": 78,
   "id": "a62e42bb",
   "metadata": {},
   "outputs": [
    {
     "data": {
      "text/plain": [
       "{'car1': {'Suzuki': 1960}, 'car2': {'Toyota': 1970}, 'car3': {'Nano': 2010}}"
      ]
     },
     "execution_count": 78,
     "metadata": {},
     "output_type": "execute_result"
    }
   ],
   "source": [
    "cars"
   ]
  },
  {
   "cell_type": "code",
   "execution_count": 80,
   "id": "c50c7a48",
   "metadata": {},
   "outputs": [
    {
     "name": "stdout",
     "output_type": "stream",
     "text": [
      "{'Suzuki': 1960}\n"
     ]
    }
   ],
   "source": [
    "print(cars['car1'])"
   ]
  },
  {
   "cell_type": "code",
   "execution_count": 81,
   "id": "f5dcce0a",
   "metadata": {},
   "outputs": [
    {
     "name": "stdout",
     "output_type": "stream",
     "text": [
      "1960\n"
     ]
    }
   ],
   "source": [
    "print(cars['car1']['Suzuki'])"
   ]
  },
  {
   "cell_type": "markdown",
   "id": "fd26b1b8",
   "metadata": {},
   "source": [
    "# Tuples\n",
    "Once the value inserted, it can not be changed furthur and it uses single bracket."
   ]
  },
  {
   "cell_type": "code",
   "execution_count": 83,
   "id": "c9187a45",
   "metadata": {},
   "outputs": [],
   "source": [
    "tup = tuple()"
   ]
  },
  {
   "cell_type": "code",
   "execution_count": 84,
   "id": "bdc69ff2",
   "metadata": {},
   "outputs": [
    {
     "data": {
      "text/plain": [
       "tuple"
      ]
     },
     "execution_count": 84,
     "metadata": {},
     "output_type": "execute_result"
    }
   ],
   "source": [
    "type(tup)"
   ]
  },
  {
   "cell_type": "code",
   "execution_count": 85,
   "id": "9b6471d3",
   "metadata": {},
   "outputs": [],
   "source": [
    "tup = (\"Sathi\",\"Surya\",\"Sunita\")"
   ]
  },
  {
   "cell_type": "code",
   "execution_count": 86,
   "id": "dffd02e6",
   "metadata": {},
   "outputs": [
    {
     "data": {
      "text/plain": [
       "'Sathi'"
      ]
     },
     "execution_count": 86,
     "metadata": {},
     "output_type": "execute_result"
    }
   ],
   "source": [
    "tup[0]"
   ]
  },
  {
   "cell_type": "code",
   "execution_count": 87,
   "id": "7c0e7e1a",
   "metadata": {},
   "outputs": [
    {
     "ename": "TypeError",
     "evalue": "'tuple' object does not support item assignment",
     "output_type": "error",
     "traceback": [
      "\u001b[1;31m---------------------------------------------------------------------------\u001b[0m",
      "\u001b[1;31mTypeError\u001b[0m                                 Traceback (most recent call last)",
      "\u001b[1;32m~\\AppData\\Local\\Temp\\ipykernel_10820\\3233214393.py\u001b[0m in \u001b[0;36m<module>\u001b[1;34m\u001b[0m\n\u001b[1;32m----> 1\u001b[1;33m \u001b[0mtup\u001b[0m\u001b[1;33m[\u001b[0m\u001b[1;36m0\u001b[0m\u001b[1;33m]\u001b[0m \u001b[1;33m=\u001b[0m \u001b[1;34m'Panko'\u001b[0m\u001b[1;33m\u001b[0m\u001b[1;33m\u001b[0m\u001b[0m\n\u001b[0m",
      "\u001b[1;31mTypeError\u001b[0m: 'tuple' object does not support item assignment"
     ]
    }
   ],
   "source": [
    "tup[0] = 'Panko' # You can't chnage the elements"
   ]
  },
  {
   "cell_type": "code",
   "execution_count": 88,
   "id": "d3ca9b18",
   "metadata": {},
   "outputs": [],
   "source": [
    "tup = (\"Panko\", \"Momo\") # You can chnage the whole values but not single at once"
   ]
  },
  {
   "cell_type": "code",
   "execution_count": 89,
   "id": "bcd0ecc5",
   "metadata": {},
   "outputs": [
    {
     "data": {
      "text/plain": [
       "('Panko', 'Momo')"
      ]
     },
     "execution_count": 89,
     "metadata": {},
     "output_type": "execute_result"
    }
   ],
   "source": [
    "tup"
   ]
  },
  {
   "cell_type": "markdown",
   "id": "a60ca372",
   "metadata": {},
   "source": [
    "# is vs ==\n",
    "is will return True if two variables point to the same object (in memory), == if the objects referred to by the variables are equal."
   ]
  },
  {
   "cell_type": "code",
   "execution_count": 1,
   "id": "4973d3ec",
   "metadata": {},
   "outputs": [],
   "source": [
    "lst1 = ['S1','S2','S3']\n",
    "lst2 = ['S1','S2','S3']"
   ]
  },
  {
   "cell_type": "code",
   "execution_count": 2,
   "id": "efc137cb",
   "metadata": {},
   "outputs": [
    {
     "data": {
      "text/plain": [
       "True"
      ]
     },
     "execution_count": 2,
     "metadata": {},
     "output_type": "execute_result"
    }
   ],
   "source": [
    "lst1 == lst2"
   ]
  },
  {
   "cell_type": "code",
   "execution_count": 3,
   "id": "bd7ae71b",
   "metadata": {},
   "outputs": [
    {
     "data": {
      "text/plain": [
       "False"
      ]
     },
     "execution_count": 3,
     "metadata": {},
     "output_type": "execute_result"
    }
   ],
   "source": [
    "lst1 is lst2"
   ]
  },
  {
   "cell_type": "code",
   "execution_count": 4,
   "id": "37bcd918",
   "metadata": {},
   "outputs": [],
   "source": [
    "#Now we will try saving the elements in same object(in memory)\n",
    "lst1 = lst2"
   ]
  },
  {
   "cell_type": "code",
   "execution_count": 5,
   "id": "683cd0f8",
   "metadata": {},
   "outputs": [
    {
     "data": {
      "text/plain": [
       "True"
      ]
     },
     "execution_count": 5,
     "metadata": {},
     "output_type": "execute_result"
    }
   ],
   "source": [
    "lst1 is lst2 # Now it gives true"
   ]
  },
  {
   "cell_type": "code",
   "execution_count": 6,
   "id": "ae926c16",
   "metadata": {},
   "outputs": [],
   "source": [
    "lst1[0] ='S4'"
   ]
  },
  {
   "cell_type": "code",
   "execution_count": 7,
   "id": "dccdc97a",
   "metadata": {},
   "outputs": [
    {
     "data": {
      "text/plain": [
       "['S4', 'S2', 'S3']"
      ]
     },
     "execution_count": 7,
     "metadata": {},
     "output_type": "execute_result"
    }
   ],
   "source": [
    "lst1"
   ]
  },
  {
   "cell_type": "code",
   "execution_count": 8,
   "id": "025e3b0a",
   "metadata": {},
   "outputs": [
    {
     "data": {
      "text/plain": [
       "['S4', 'S2', 'S3']"
      ]
     },
     "execution_count": 8,
     "metadata": {},
     "output_type": "execute_result"
    }
   ],
   "source": [
    "lst2"
   ]
  },
  {
   "cell_type": "markdown",
   "id": "3a27ddc9",
   "metadata": {},
   "source": [
    "The value is same, as both refers to the same memory and thus same element and that is where 'is' is used."
   ]
  },
  {
   "cell_type": "code",
   "execution_count": null,
   "id": "d6cb0841",
   "metadata": {},
   "outputs": [],
   "source": []
  }
 ],
 "metadata": {
  "kernelspec": {
   "display_name": "Python 3 (ipykernel)",
   "language": "python",
   "name": "python3"
  },
  "language_info": {
   "codemirror_mode": {
    "name": "ipython",
    "version": 3
   },
   "file_extension": ".py",
   "mimetype": "text/x-python",
   "name": "python",
   "nbconvert_exporter": "python",
   "pygments_lexer": "ipython3",
   "version": "3.7.7"
  }
 },
 "nbformat": 4,
 "nbformat_minor": 5
}
