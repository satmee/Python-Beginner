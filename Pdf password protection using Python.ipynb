{
 "cells": [
  {
   "cell_type": "code",
   "execution_count": 25,
   "id": "433f90dd",
   "metadata": {},
   "outputs": [
    {
     "name": "stdout",
     "output_type": "stream",
     "text": [
      "Collecting pikepdf\n",
      "  Downloading pikepdf-6.2.9-cp37-cp37m-win_amd64.whl (3.2 MB)\n",
      "     ---------------------------------------- 3.2/3.2 MB 1.1 MB/s eta 0:00:00\n",
      "Requirement already satisfied: typing-extensions>=4 in c:\\users\\lenovo\\appdata\\local\\programs\\python\\python37\\lib\\site-packages (from pikepdf) (4.7.1)\n",
      "Requirement already satisfied: packaging in c:\\users\\lenovo\\appdata\\local\\programs\\python\\python37\\lib\\site-packages (from pikepdf) (24.0)\n",
      "Requirement already satisfied: Pillow>=9.0 in c:\\users\\lenovo\\appdata\\local\\programs\\python\\python37\\lib\\site-packages (from pikepdf) (9.5.0)\n",
      "Collecting deprecation\n",
      "  Downloading deprecation-2.1.0-py2.py3-none-any.whl (11 kB)\n",
      "Requirement already satisfied: lxml>=4.8 in c:\\users\\lenovo\\appdata\\local\\programs\\python\\python37\\lib\\site-packages (from pikepdf) (5.1.0)\n",
      "Requirement already satisfied: importlib-metadata>=4 in c:\\users\\lenovo\\appdata\\local\\programs\\python\\python37\\lib\\site-packages (from pikepdf) (6.7.0)\n",
      "Requirement already satisfied: zipp>=0.5 in c:\\users\\lenovo\\appdata\\local\\programs\\python\\python37\\lib\\site-packages (from importlib-metadata>=4->pikepdf) (3.15.0)\n",
      "Installing collected packages: deprecation, pikepdf\n",
      "Successfully installed deprecation-2.1.0 pikepdf-6.2.9\n",
      "Note: you may need to restart the kernel to use updated packages.\n"
     ]
    },
    {
     "name": "stderr",
     "output_type": "stream",
     "text": [
      "WARNING: Ignoring invalid distribution -yyaml (c:\\users\\lenovo\\appdata\\roaming\\python\\python37\\site-packages)\n",
      "WARNING: Ignoring invalid distribution -yyaml (c:\\users\\lenovo\\appdata\\roaming\\python\\python37\\site-packages)\n",
      "WARNING: Ignoring invalid distribution -yyaml (c:\\users\\lenovo\\appdata\\roaming\\python\\python37\\site-packages)\n",
      "WARNING: Ignoring invalid distribution -yyaml (c:\\users\\lenovo\\appdata\\roaming\\python\\python37\\site-packages)\n",
      "WARNING: Ignoring invalid distribution -yyaml (c:\\users\\lenovo\\appdata\\roaming\\python\\python37\\site-packages)\n",
      "WARNING: Ignoring invalid distribution -yyaml (c:\\users\\lenovo\\appdata\\roaming\\python\\python37\\site-packages)\n",
      "WARNING: There was an error checking the latest version of pip.\n"
     ]
    }
   ],
   "source": [
    "pip install pikepdf"
   ]
  },
  {
   "cell_type": "code",
   "execution_count": 26,
   "id": "dd1ce09c",
   "metadata": {
    "scrolled": true
   },
   "outputs": [],
   "source": [
    "import pikepdf"
   ]
  },
  {
   "cell_type": "code",
   "execution_count": 28,
   "id": "5640f753",
   "metadata": {},
   "outputs": [],
   "source": [
    "old_pdf = pikepdf.Pdf.open('Shrishti_Resume.pdf')\n",
    "no_extr = pikepdf.Permissions(extract=False)"
   ]
  },
  {
   "cell_type": "code",
   "execution_count": 31,
   "id": "8dbbe301",
   "metadata": {},
   "outputs": [],
   "source": [
    "old_pdf.save('encrypted_shrishti.pdf', encryption = pikepdf.Encryption(user='Sathi123',owner = 'Sathi',allow= no_extr))"
   ]
  },
  {
   "cell_type": "code",
   "execution_count": null,
   "id": "2db469e5",
   "metadata": {},
   "outputs": [],
   "source": []
  }
 ],
 "metadata": {
  "kernelspec": {
   "display_name": "Python 3 (ipykernel)",
   "language": "python",
   "name": "python3"
  },
  "language_info": {
   "codemirror_mode": {
    "name": "ipython",
    "version": 3
   },
   "file_extension": ".py",
   "mimetype": "text/x-python",
   "name": "python",
   "nbconvert_exporter": "python",
   "pygments_lexer": "ipython3",
   "version": "3.7.7"
  }
 },
 "nbformat": 4,
 "nbformat_minor": 5
}
