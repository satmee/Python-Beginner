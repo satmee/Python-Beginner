{
 "cells": [
  {
   "cell_type": "markdown",
   "id": "0434a96b",
   "metadata": {},
   "source": [
    "# Python Eval Function\n",
    "It evaluates python expressions which are written as Strings"
   ]
  },
  {
   "cell_type": "code",
   "execution_count": 1,
   "id": "f98732b1",
   "metadata": {},
   "outputs": [
    {
     "data": {
      "text/plain": [
       "25"
      ]
     },
     "execution_count": 1,
     "metadata": {},
     "output_type": "execute_result"
    }
   ],
   "source": [
    "5*5"
   ]
  },
  {
   "cell_type": "code",
   "execution_count": 4,
   "id": "9c568b24",
   "metadata": {},
   "outputs": [
    {
     "data": {
      "text/plain": [
       "25"
      ]
     },
     "execution_count": 4,
     "metadata": {},
     "output_type": "execute_result"
    }
   ],
   "source": [
    "eval('5*5') # It computes the string"
   ]
  },
  {
   "cell_type": "code",
   "execution_count": 5,
   "id": "2576db74",
   "metadata": {},
   "outputs": [
    {
     "name": "stdout",
     "output_type": "stream",
     "text": [
      "Enter your pyhton Expression:5*6\n"
     ]
    },
    {
     "data": {
      "text/plain": [
       "'5*6'"
      ]
     },
     "execution_count": 5,
     "metadata": {},
     "output_type": "execute_result"
    }
   ],
   "source": [
    "input('Enter your pyhton Expression:')"
   ]
  },
  {
   "cell_type": "code",
   "execution_count": 6,
   "id": "ef3343f4",
   "metadata": {},
   "outputs": [
    {
     "name": "stdout",
     "output_type": "stream",
     "text": [
      "Enter your pyhton Expression:5*6\n"
     ]
    },
    {
     "data": {
      "text/plain": [
       "30"
      ]
     },
     "execution_count": 6,
     "metadata": {},
     "output_type": "execute_result"
    }
   ],
   "source": [
    "#Now with eval\n",
    "eval(input('Enter your pyhton Expression:'))"
   ]
  },
  {
   "cell_type": "code",
   "execution_count": 8,
   "id": "e268a9a5",
   "metadata": {},
   "outputs": [
    {
     "name": "stdout",
     "output_type": "stream",
     "text": [
      "Enter your pyhton Expression:len([4,5,6])\n"
     ]
    },
    {
     "data": {
      "text/plain": [
       "3"
      ]
     },
     "execution_count": 8,
     "metadata": {},
     "output_type": "execute_result"
    }
   ],
   "source": [
    "#can be used for varioud other uses\n",
    "eval(input('Enter your pyhton Expression:'))"
   ]
  },
  {
   "cell_type": "markdown",
   "id": "70e1aaab",
   "metadata": {},
   "source": [
    "## How does Eval works?\n",
    "1. Parse python expression\n",
    "2. Compile into a byte code\n",
    "3. Evaluate the python expression\n",
    "4. Return the result"
   ]
  },
  {
   "cell_type": "code",
   "execution_count": 12,
   "id": "17de66cb",
   "metadata": {},
   "outputs": [],
   "source": [
    "var = compile('5*5','<string>','eval') # this is the function that happens internally"
   ]
  },
  {
   "cell_type": "code",
   "execution_count": 13,
   "id": "d493be43",
   "metadata": {},
   "outputs": [
    {
     "data": {
      "text/plain": [
       "<code object <module> at 0x00000200C863F540, file \"<string>\", line 1>"
      ]
     },
     "execution_count": 13,
     "metadata": {},
     "output_type": "execute_result"
    }
   ],
   "source": [
    "var"
   ]
  },
  {
   "cell_type": "code",
   "execution_count": 14,
   "id": "403bb08a",
   "metadata": {},
   "outputs": [
    {
     "data": {
      "text/plain": [
       "25"
      ]
     },
     "execution_count": 14,
     "metadata": {},
     "output_type": "execute_result"
    }
   ],
   "source": [
    "eval(var)"
   ]
  },
  {
   "cell_type": "markdown",
   "id": "7b17f638",
   "metadata": {},
   "source": [
    "## Global"
   ]
  },
  {
   "cell_type": "markdown",
   "id": "0cc33a7d",
   "metadata": {},
   "source": [
    "Python Global variables are those which are not defined inside any function and have a global scope whereas Python local variables are those which are defined inside a function and their scope is limited to that function only. "
   ]
  },
  {
   "cell_type": "code",
   "execution_count": 15,
   "id": "6140c4ab",
   "metadata": {},
   "outputs": [
    {
     "data": {
      "text/plain": [
       "200"
      ]
     },
     "execution_count": 15,
     "metadata": {},
     "output_type": "execute_result"
    }
   ],
   "source": [
    "x= 100\n",
    "eval('x+y',{'x':x,'y':100})"
   ]
  },
  {
   "cell_type": "markdown",
   "id": "bb54bf88",
   "metadata": {},
   "source": [
    "# Local "
   ]
  },
  {
   "cell_type": "markdown",
   "id": "93531265",
   "metadata": {},
   "source": [
    "Local variables in Python are those which are initialized inside a function and belong only to that particular function. It cannot be accessed anywhere outside the function. Let’s see how to create a local variable."
   ]
  },
  {
   "cell_type": "code",
   "execution_count": 16,
   "id": "8a8b51db",
   "metadata": {},
   "outputs": [
    {
     "data": {
      "text/plain": [
       "200"
      ]
     },
     "execution_count": 16,
     "metadata": {},
     "output_type": "execute_result"
    }
   ],
   "source": [
    "x= 100\n",
    "eval('x+y',{},{'x':x,'y':100})"
   ]
  },
  {
   "cell_type": "markdown",
   "id": "100424dc",
   "metadata": {},
   "source": [
    "### Using eval is a bad practice. Just to name a few reasons:\n",
    "\n",
    "1. There is almost always a better way to do it\n",
    "2. Very dangerous and insecure\n",
    "3. Makes debugging difficult\n",
    "4. Slow"
   ]
  },
  {
   "cell_type": "code",
   "execution_count": null,
   "id": "bd918d3e",
   "metadata": {},
   "outputs": [],
   "source": []
  }
 ],
 "metadata": {
  "kernelspec": {
   "display_name": "Python 3 (ipykernel)",
   "language": "python",
   "name": "python3"
  },
  "language_info": {
   "codemirror_mode": {
    "name": "ipython",
    "version": 3
   },
   "file_extension": ".py",
   "mimetype": "text/x-python",
   "name": "python",
   "nbconvert_exporter": "python",
   "pygments_lexer": "ipython3",
   "version": "3.7.7"
  }
 },
 "nbformat": 4,
 "nbformat_minor": 5
}
