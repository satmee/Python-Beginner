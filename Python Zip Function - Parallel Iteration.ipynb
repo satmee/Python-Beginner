{
 "cells": [
  {
   "cell_type": "markdown",
   "id": "292a8a99",
   "metadata": {},
   "source": [
    "#  Zip\n",
    "Python's zip() function is a built-in function that allows you to iterate over multiple iterables in parallel."
   ]
  },
  {
   "cell_type": "code",
   "execution_count": null,
   "id": "0e0d7309",
   "metadata": {},
   "outputs": [],
   "source": [
    "lst1 = ['Sathi','Surya','Sunita']\n",
    "lst2 = ['Sankar','N','Panko']"
   ]
  },
  {
   "cell_type": "code",
   "execution_count": null,
   "id": "61eb95ed",
   "metadata": {},
   "outputs": [],
   "source": [
    "output = zip(lst1,lst2)"
   ]
  },
  {
   "cell_type": "code",
   "execution_count": null,
   "id": "1211701d",
   "metadata": {},
   "outputs": [],
   "source": [
    "output"
   ]
  },
  {
   "cell_type": "code",
   "execution_count": null,
   "id": "14d656f8",
   "metadata": {},
   "outputs": [],
   "source": [
    "list(output)# creating a tuple"
   ]
  },
  {
   "cell_type": "markdown",
   "id": "3a030dca",
   "metadata": {},
   "source": [
    "### Zip object is an iterator"
   ]
  },
  {
   "cell_type": "code",
   "execution_count": null,
   "id": "881cdad9",
   "metadata": {},
   "outputs": [],
   "source": [
    "next(output)"
   ]
  },
  {
   "cell_type": "code",
   "execution_count": null,
   "id": "96cb4854",
   "metadata": {},
   "outputs": [],
   "source": [
    "next(output)"
   ]
  },
  {
   "cell_type": "code",
   "execution_count": null,
   "id": "18f78ca2",
   "metadata": {},
   "outputs": [],
   "source": [
    "lst1 = ['Sathi','Surya','Sunita']\n",
    "lst2 = ['Sankar','N','Panko']\n",
    "lst3 = [1,2,3]"
   ]
  },
  {
   "cell_type": "code",
   "execution_count": null,
   "id": "9785189f",
   "metadata": {},
   "outputs": [],
   "source": [
    "output = zip(lst1,lst2,lst3)\n",
    "for i,j,k in output:\n",
    "    print(i,j,k)"
   ]
  },
  {
   "cell_type": "markdown",
   "id": "27ca39d1",
   "metadata": {},
   "source": [
    "parallel Iteration happens of 3 lists together"
   ]
  },
  {
   "cell_type": "code",
   "execution_count": null,
   "id": "2b76b229",
   "metadata": {},
   "outputs": [],
   "source": [
    "lst1 = ['Sathi','Surya','Sunita',4]\n",
    "lst2 = ['Sankar','N','Panko']\n",
    "lst3 = [1,2,3]"
   ]
  },
  {
   "cell_type": "code",
   "execution_count": null,
   "id": "7110dfdd",
   "metadata": {},
   "outputs": [],
   "source": [
    "output = zip(lst1,lst2,lst3)\n",
    "for i,j,k in output:\n",
    "    print(i,j,k)"
   ]
  },
  {
   "cell_type": "markdown",
   "id": "601f6e07",
   "metadata": {},
   "source": [
    "It doesn't execute 4 in lst1, gets skipped."
   ]
  },
  {
   "cell_type": "code",
   "execution_count": null,
   "id": "198451f0",
   "metadata": {},
   "outputs": [],
   "source": [
    "dict1 = {'Name':'Sathi',\"Age\":20,'Place':'Kolkata'}\n",
    "dict2 = {'Name':'Panko',\"Age\":2,'Place':'Delhi'}"
   ]
  },
  {
   "cell_type": "code",
   "execution_count": null,
   "id": "e3ada030",
   "metadata": {},
   "outputs": [],
   "source": [
    "ine=zip(dict1.items(),dict2.items())"
   ]
  },
  {
   "cell_type": "code",
   "execution_count": null,
   "id": "3bc90bda",
   "metadata": {},
   "outputs": [],
   "source": [
    "for (i,k),(i2,k2) in ine:\n",
    "    print(i,k)\n",
    "    print(i2,k2)"
   ]
  },
  {
   "cell_type": "markdown",
   "id": "3fa1b7fd",
   "metadata": {},
   "source": [
    "The zip() function returns a zip object, which is an iterator of tuples where the first item in each passed iterator is paired together, and then the second item in each passed iterator are paired together etc.\n",
    "\n",
    "If the passed iterables have different lengths, the iterable with the least items decides the length of the new iterator."
   ]
  },
  {
   "cell_type": "code",
   "execution_count": null,
   "id": "eee2004a",
   "metadata": {},
   "outputs": [],
   "source": []
  },
  {
   "cell_type": "code",
   "execution_count": null,
   "id": "84a27c02",
   "metadata": {},
   "outputs": [],
   "source": []
  }
 ],
 "metadata": {
  "kernelspec": {
   "display_name": "Python 3 (ipykernel)",
   "language": "python",
   "name": "python3"
  },
  "language_info": {
   "codemirror_mode": {
    "name": "ipython",
    "version": 3
   },
   "file_extension": ".py",
   "mimetype": "text/x-python",
   "name": "python",
   "nbconvert_exporter": "python",
   "pygments_lexer": "ipython3",
   "version": "3.7.7"
  }
 },
 "nbformat": 4,
 "nbformat_minor": 5
}
